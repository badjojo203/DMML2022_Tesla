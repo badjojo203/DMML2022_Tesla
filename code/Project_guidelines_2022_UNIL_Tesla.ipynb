{
 "cells": [
  {
   "cell_type": "markdown",
   "metadata": {
    "id": "8ZKqCFFbNZ04"
   },
   "source": [
    "# Data Mining and Machine Learning - Project\n",
    "\n",
    "## Detecting Difficulty Level of French Texts\n",
    "\n",
    "### Step by step guidelines\n",
    "\n",
    "The following are a set of step by step guidelines to help you get started with your project for the Data Mining and Machine Learning class. \n",
    "To test what you learned in the class, we will hold a competition. You will create a classifier that predicts how the level of some text in French (A1,..., C2). The team with the highest rank will get some goodies in the last class (some souvenirs from tech companies: Amazon, LinkedIn, etc).\n",
    "\n",
    "**2 people per team**\n",
    "\n",
    "Choose a team here:\n",
    "https://moodle.unil.ch/mod/choicegroup/view.php?id=1305831\n",
    "\n",
    "\n",
    "#### 1. 📂 Create a public GitHub repository for your team using this naming convention `DMML2022_[your_team_name]` with the following structure:\n",
    "- data (folder) \n",
    "- code (folder) \n",
    "- documentation (folder)\n",
    "- a readme file (.md): *mention team name, participants, brief description of the project, approach, summary of results table and link to the explainatory video (see below).*\n",
    "\n",
    "All team members should contribute to the GitHub repository.\n",
    "\n",
    "#### 2. 🇰 Join the competititon on Kaggle using the invitation link we sent on Slack.\n",
    "\n",
    "Under the Team tab, save your team name (`UNIL_your_team_name`) and make sure your team members join in as well. You can merge your user account with your teammates in order to create a team.\n",
    "\n",
    "#### 3. 📓 Read the data into your colab notebook. There should be one code notebook per team, but all team members can participate and contribute code. \n",
    "\n",
    "You can use either direct the Kaggle API and your Kaggle credentials (as explained below and **entirely optional**), or dowload the data form Kaggle and upload it onto your team's GitHub repository under the data subfolder.\n",
    "\n",
    "#### 4. 💎 Train your models and upload the code under your team's GitHub repo. Set the `random_state=0`.\n",
    "- baseline\n",
    "- logistic regression with TFidf vectoriser (simple, no data cleaning)\n",
    "- KNN & hyperparameter optimisation (simple, no data cleaning)\n",
    "- Decision Tree classifier & hyperparameter optimisation (simple, no data cleaning)\n",
    "- Random Forests classifier (simple, no data cleaning)\n",
    "- another technique or combination of techniques of your choice\n",
    "\n",
    "BE CREATIVE! You can use whatever method you want, in order to climb the leaderboard. The only rule is that it must be your own work. Given that, you can use all the online resources you want. \n",
    "\n",
    "#### 5. 🎥 Create a YouTube video (5-10 minutes) of your solution and embed it in your notebook. Explain the algorithms used and the evaluation of your solutions. *Select* projects will also be presented live by the group during the last class.\n",
    "\n",
    "\n",
    "### Submission details (one per team)\n",
    "\n",
    "1. Download a ZIPped file of your team's repository and submit it in Moodle here. IMPORTANT: in the comment of the submission, insert a link to the repository on Github.\n",
    "https://moodle.unil.ch/mod/assign/view.php?id=1305833\n",
    "\n",
    "\n",
    "\n",
    "### Grading (one per team)\n",
    "- 20% Kaggle Rank\n",
    "- 50% code quality (using classes, splitting into proper files, documentation, etc)\n",
    "- 15% github quality (include link to video, table with progress over time, organization of code, images, etc)\n",
    "- 15% video quality (good sound, good slides, interesting presentation)."
   ]
  },
  {
   "cell_type": "markdown",
   "metadata": {
    "id": "9-14CAdOoinM"
   },
   "source": [
    "## Some further details for points 3 and 4 above.\n",
    "\n",
    "### 3. Read data into your notebook with the Kaggle API (optional but useful). \n",
    "\n",
    "You can also download the data from Kaggle and put it in your team's repo the data folder."
   ]
  },
  {
   "cell_type": "code",
   "execution_count": 1,
   "metadata": {
    "colab": {
     "base_uri": "https://localhost:8080/"
    },
    "id": "UJ_hnJzSNO2g",
    "outputId": "2657bdeb-ca0f-4679-cd1d-0f337fccf074"
   },
   "outputs": [],
   "source": [
    "# reading in the data via the Kaggle API\n",
    "\n",
    "# mount your Google Drive\n",
    "#from google.colab import drive\n",
    "#drive.mount('/content/drive', force_remount=True)"
   ]
  },
  {
   "cell_type": "code",
   "execution_count": 2,
   "metadata": {
    "colab": {
     "base_uri": "https://localhost:8080/"
    },
    "id": "mJPTz3D7TeQv",
    "outputId": "e53838f1-7de2-45ff-933a-7a9420c60799"
   },
   "outputs": [],
   "source": [
    "# install Kaggle\n",
    "#! pip install kaggle"
   ]
  },
  {
   "cell_type": "markdown",
   "metadata": {
    "id": "ZKG1TCddRYTB"
   },
   "source": [
    "### IMPORTANT\n",
    "Log into your Kaggle account, go to Account > API > Create new API token. You will obtain a kaggle.json file. Save it in your Google Drive (not in a folder, in your general drive)."
   ]
  },
  {
   "cell_type": "code",
   "execution_count": 3,
   "metadata": {
    "colab": {
     "base_uri": "https://localhost:8080/"
    },
    "id": "JgzLj451YDfV",
    "outputId": "85a09b6e-e3e2-470d-cd90-6fdbd0bdd24f"
   },
   "outputs": [],
   "source": [
    "#!mkdir ~/.kaggle"
   ]
  },
  {
   "cell_type": "code",
   "execution_count": 4,
   "metadata": {
    "id": "KrsZLalrSI3u"
   },
   "outputs": [],
   "source": [
    "#read in your Kaggle credentials from Google Drive\n",
    "#!cp /content/drive/MyDrive/kaggle.json ~/.kaggle/kaggle.json\n"
   ]
  },
  {
   "cell_type": "code",
   "execution_count": 5,
   "metadata": {
    "id": "1hfgvwNaqLLM"
   },
   "outputs": [],
   "source": [
    "#!mkdir data\n"
   ]
  },
  {
   "cell_type": "code",
   "execution_count": 6,
   "metadata": {
    "colab": {
     "base_uri": "https://localhost:8080/"
    },
    "id": "BDI60LXKTPzf",
    "outputId": "34a95d65-6d0a-4354-ee6b-5a31a39399f7"
   },
   "outputs": [],
   "source": [
    "# download the dataset from the competition page\n",
    "#! kaggle competitions download -c detecting-french-texts-difficulty-level-2022"
   ]
  },
  {
   "cell_type": "code",
   "execution_count": 7,
   "metadata": {
    "id": "L7fA34PWqLLN"
   },
   "outputs": [],
   "source": [
    "#!unzip \"detecting-french-texts-difficulty-level-2022.zip\" -d data"
   ]
  },
  {
   "cell_type": "code",
   "execution_count": 8,
   "metadata": {
    "id": "daqvj7feTx60"
   },
   "outputs": [],
   "source": [
    "# read in your training data\n",
    "import pandas as pd\n",
    "import numpy as np\n",
    "\n",
    "\n",
    "df = pd.read_csv('../data/training_data.csv')"
   ]
  },
  {
   "cell_type": "code",
   "execution_count": 9,
   "metadata": {
    "colab": {
     "base_uri": "https://localhost:8080/",
     "height": 206
    },
    "id": "VxRSnk5bhTp8",
    "outputId": "80616e55-545c-4b80-fd32-99de0b0e4124"
   },
   "outputs": [
    {
     "data": {
      "text/plain": "   id                                           sentence difficulty\n0   0  Les coûts kilométriques réels peuvent diverger...         C1\n1   1  Le bleu, c'est ma couleur préférée mais je n'a...         A1\n2   2  Le test de niveau en français est sur le site ...         A1\n3   3           Est-ce que ton mari est aussi de Boston?         A1\n4   4  Dans les écoles de commerce, dans les couloirs...         B1",
      "text/html": "<div>\n<style scoped>\n    .dataframe tbody tr th:only-of-type {\n        vertical-align: middle;\n    }\n\n    .dataframe tbody tr th {\n        vertical-align: top;\n    }\n\n    .dataframe thead th {\n        text-align: right;\n    }\n</style>\n<table border=\"1\" class=\"dataframe\">\n  <thead>\n    <tr style=\"text-align: right;\">\n      <th></th>\n      <th>id</th>\n      <th>sentence</th>\n      <th>difficulty</th>\n    </tr>\n  </thead>\n  <tbody>\n    <tr>\n      <th>0</th>\n      <td>0</td>\n      <td>Les coûts kilométriques réels peuvent diverger...</td>\n      <td>C1</td>\n    </tr>\n    <tr>\n      <th>1</th>\n      <td>1</td>\n      <td>Le bleu, c'est ma couleur préférée mais je n'a...</td>\n      <td>A1</td>\n    </tr>\n    <tr>\n      <th>2</th>\n      <td>2</td>\n      <td>Le test de niveau en français est sur le site ...</td>\n      <td>A1</td>\n    </tr>\n    <tr>\n      <th>3</th>\n      <td>3</td>\n      <td>Est-ce que ton mari est aussi de Boston?</td>\n      <td>A1</td>\n    </tr>\n    <tr>\n      <th>4</th>\n      <td>4</td>\n      <td>Dans les écoles de commerce, dans les couloirs...</td>\n      <td>B1</td>\n    </tr>\n  </tbody>\n</table>\n</div>"
     },
     "execution_count": 9,
     "metadata": {},
     "output_type": "execute_result"
    }
   ],
   "source": [
    "df.head()"
   ]
  },
  {
   "cell_type": "markdown",
   "metadata": {
    "id": "1kpfbtndj0jL"
   },
   "source": [
    "Have a look at the data on which to make predictions."
   ]
  },
  {
   "cell_type": "code",
   "execution_count": 10,
   "metadata": {
    "colab": {
     "base_uri": "https://localhost:8080/",
     "height": 206
    },
    "id": "7G75Q1gRj49l",
    "outputId": "0fdf7e2a-db10-4cf8-9416-f36f6851a1d2"
   },
   "outputs": [
    {
     "data": {
      "text/plain": "   id                                           sentence\n0   0  Nous dûmes nous excuser des propos que nous eû...\n1   1  Vous ne pouvez pas savoir le plaisir que j'ai ...\n2   2  Et, paradoxalement, boire froid n'est pas la b...\n3   3  Ce n'est pas étonnant, car c'est une saison my...\n4   4  Le corps de Golo lui-même, d'une essence aussi...",
      "text/html": "<div>\n<style scoped>\n    .dataframe tbody tr th:only-of-type {\n        vertical-align: middle;\n    }\n\n    .dataframe tbody tr th {\n        vertical-align: top;\n    }\n\n    .dataframe thead th {\n        text-align: right;\n    }\n</style>\n<table border=\"1\" class=\"dataframe\">\n  <thead>\n    <tr style=\"text-align: right;\">\n      <th></th>\n      <th>id</th>\n      <th>sentence</th>\n    </tr>\n  </thead>\n  <tbody>\n    <tr>\n      <th>0</th>\n      <td>0</td>\n      <td>Nous dûmes nous excuser des propos que nous eû...</td>\n    </tr>\n    <tr>\n      <th>1</th>\n      <td>1</td>\n      <td>Vous ne pouvez pas savoir le plaisir que j'ai ...</td>\n    </tr>\n    <tr>\n      <th>2</th>\n      <td>2</td>\n      <td>Et, paradoxalement, boire froid n'est pas la b...</td>\n    </tr>\n    <tr>\n      <th>3</th>\n      <td>3</td>\n      <td>Ce n'est pas étonnant, car c'est une saison my...</td>\n    </tr>\n    <tr>\n      <th>4</th>\n      <td>4</td>\n      <td>Le corps de Golo lui-même, d'une essence aussi...</td>\n    </tr>\n  </tbody>\n</table>\n</div>"
     },
     "execution_count": 10,
     "metadata": {},
     "output_type": "execute_result"
    }
   ],
   "source": [
    "df_pred = pd.read_csv('../data/unlabelled_test_data.csv')\n",
    "df_pred.head()"
   ]
  },
  {
   "cell_type": "markdown",
   "metadata": {
    "id": "a37hWJ_ckBlk"
   },
   "source": [
    "And this is the format for your submissions."
   ]
  },
  {
   "cell_type": "code",
   "execution_count": 11,
   "metadata": {
    "colab": {
     "base_uri": "https://localhost:8080/",
     "height": 206
    },
    "id": "gk9H2dLHkFBa",
    "outputId": "e823ec1a-db03-4b6b-ca0c-7f89a93f02a8"
   },
   "outputs": [],
   "source": [
    "#df_example_submission = pd.read_csv('/content/data/sample_submission.csv')\n",
    "#df_example_submission.head()"
   ]
  },
  {
   "cell_type": "markdown",
   "metadata": {
    "id": "FfTgL1erjqQ6"
   },
   "source": [
    "### 4. Train your models\n",
    "\n",
    "Set your X and y variables. \n",
    "Set the `random_state=0`\n",
    "Split the data into a train and test set using the following parameters `train_test_split(X, y, test_size=0.2, random_state=0)`.\n",
    "\n",
    "#### 4.1.Baseline\n",
    "What is the baseline for this classification problem?"
   ]
  },
  {
   "cell_type": "code",
   "execution_count": 12,
   "outputs": [],
   "source": [
    "from lib.DataVectorizer import DataVectorizer\n",
    "from lib.DataManager import DataManager\n",
    "from lib.DataCleaner import DataCleaner\n",
    "from lib.ClassifierManager import ClassifierManager"
   ],
   "metadata": {
    "collapsed": false,
    "pycharm": {
     "name": "#%%\n"
    }
   }
  },
  {
   "cell_type": "code",
   "execution_count": 13,
   "outputs": [],
   "source": [
    "classifiermanager = ClassifierManager()\n",
    "datavectorizer = DataVectorizer()\n",
    "datacleaner = DataCleaner()"
   ],
   "metadata": {
    "collapsed": false,
    "pycharm": {
     "name": "#%%\n"
    }
   }
  },
  {
   "cell_type": "code",
   "execution_count": 14,
   "outputs": [],
   "source": [
    "\n",
    "datamanager = DataManager(df,\"difficulty\",\"sentence\")\n",
    "\n",
    "datamanager.labelEncode(\"difficulty\")\n"
   ],
   "metadata": {
    "collapsed": false,
    "pycharm": {
     "name": "#%%\n"
    }
   }
  },
  {
   "cell_type": "markdown",
   "metadata": {
    "id": "SlvbPYa0k78l"
   },
   "source": [
    "#### 4.2. Logistic Regression (without data cleaning)\n",
    "\n",
    "Train a simple logistic regression model using a Tfidf vectoriser."
   ]
  },
  {
   "cell_type": "code",
   "execution_count": 15,
   "outputs": [],
   "source": [
    "datamanager.splitData(0.2,0)\n",
    "\n",
    "datavectorizer.fit(\"tfidf\",datamanager)"
   ],
   "metadata": {
    "collapsed": false,
    "pycharm": {
     "name": "#%%\n"
    }
   }
  },
  {
   "cell_type": "markdown",
   "metadata": {
    "id": "bZ-qO8C5oyov"
   },
   "source": [
    "Calculate accuracy, precision, recall and F1 score on the test set."
   ]
  },
  {
   "cell_type": "code",
   "execution_count": 16,
   "metadata": {
    "id": "PViIQdnDpASy"
   },
   "outputs": [
    {
     "name": "stdout",
     "output_type": "stream",
     "text": [
      "CONFUSION MATRIX:\n",
      "[[93 31 21 10  4  2]\n",
      " [54 60 30  6  6  8]\n",
      " [12 38 64 17  9 20]\n",
      " [ 6  6 15 66 27 24]\n",
      " [ 4  4 10 37 73 45]\n",
      " [ 7  8  8 19 24 92]]\n",
      "ACCURACY SCORE:\n",
      "0.4667\n",
      "CLASSIFICATION REPORT:\n",
      "\tPrecision: 0.4645\n",
      "\tRecall: 0.4677\n",
      "\tF1_Score: 0.4640\n"
     ]
    }
   ],
   "source": [
    "log_reg =  classifiermanager.fit_predict(\"logistic_regression\",datamanager,verbose=True, params={\"solver\":'lbfgs', \"max_iter\":1000, \"random_state\":50})"
   ]
  },
  {
   "cell_type": "markdown",
   "metadata": {
    "id": "9D3_dp3apcmr"
   },
   "source": [
    "Have a look at the confusion matrix and identify a few examples of sentences that are not well classified."
   ]
  },
  {
   "cell_type": "code",
   "execution_count": 17,
   "metadata": {
    "id": "ZSyKq3h_qZmX"
   },
   "outputs": [
    {
     "name": "stdout",
     "output_type": "stream",
     "text": [
      "0.4667\n"
     ]
    },
    {
     "data": {
      "text/plain": "<Figure size 1000x1000 with 2 Axes>",
      "image/png": "[encoded data removed]"
     },
     "metadata": {},
     "output_type": "display_data"
    }
   ],
   "source": [
    "y_pred = classifiermanager.predict(datamanager,log_reg)\n",
    "datamanager.accuracy_conf_mat(y_pred)"
   ]
  },
  {
   "cell_type": "markdown",
   "metadata": {
    "id": "9TTEiuXasNFg"
   },
   "source": [
    "Generate your first predictions on the `unlabelled_test_data.csv`. make sure your predictions match the format of the `unlabelled_test_data.csv`."
   ]
  },
  {
   "cell_type": "code",
   "execution_count": 18,
   "outputs": [],
   "source": [
    "datamanager.inferDataToCSV(df_pred,log_reg,\"tfidf\",\"sentence\",\"sentence\",\"result\")"
   ],
   "metadata": {
    "collapsed": false
   }
  },
  {
   "cell_type": "markdown",
   "metadata": {
    "id": "vXG_yIG_pQ8t"
   },
   "source": [
    "#### 4.3. KNN (without data cleaning)\n",
    "\n",
    "Train a KNN classification model using a Tfidf vectoriser. Show the accuracy, precision, recall and F1 score on the test set."
   ]
  },
  {
   "cell_type": "code",
   "execution_count": 19,
   "metadata": {
    "id": "GPRjD1rSqKKZ"
   },
   "outputs": [
    {
     "name": "stdout",
     "output_type": "stream",
     "text": [
      "CONFUSION MATRIX:\n",
      "[[123  25  10   1   1   1]\n",
      " [101  48  10   3   1   1]\n",
      " [ 89  39  26   4   0   2]\n",
      " [ 58  29  16  33   1   7]\n",
      " [ 64  37  23  19  20  10]\n",
      " [ 49  33  15  16   5  40]]\n",
      "ACCURACY SCORE:\n",
      "0.3021\n",
      "CLASSIFICATION REPORT:\n",
      "\tPrecision: 0.4243\n",
      "\tRecall: 0.3028\n",
      "\tF1_Score: 0.2836\n"
     ]
    },
    {
     "data": {
      "text/plain": "KNeighborsClassifier(n_neighbors=3)"
     },
     "execution_count": 19,
     "metadata": {},
     "output_type": "execute_result"
    }
   ],
   "source": [
    "classifiermanager.fit_predict(\"knn\",datamanager,verbose=True, params={\"n_neighbors\":3})"
   ]
  },
  {
   "cell_type": "markdown",
   "metadata": {
    "id": "D6rH2Hx0qtB2"
   },
   "source": [
    "Try to improve it by tuning the hyper parameters (`n_neighbors`,   `p`, `weights`)."
   ]
  },
  {
   "cell_type": "code",
   "execution_count": 20,
   "metadata": {
    "id": "wRy18Ce_qxPc"
   },
   "outputs": [
    {
     "name": "stdout",
     "output_type": "stream",
     "text": [
      "best params:  {'n_neighbors': 4, 'p': 2, 'weights': 'distance'}\n",
      "precision : 0.3513020833333333\n",
      "test precision : 0.36770833333333336\n"
     ]
    }
   ],
   "source": [
    "grid = {'n_neighbors': np.arange(1, 10),\n",
    "        'p': np.arange(1, 3),\n",
    "        'weights': ['uniform', 'distance']\n",
    "        }\n",
    "\n",
    "classifiermanager.gridSearch(\"knn\",grid,datamanager)"
   ]
  },
  {
   "cell_type": "markdown",
   "metadata": {
    "id": "FFNH1WgNqc62"
   },
   "source": [
    "#### 4.4. Decision Tree Classifier (without data cleaning)\n",
    "\n",
    "Train a Decison Tree classifier, using a Tfidf vectoriser. Show the accuracy, precision, recall and F1 score on the test set."
   ]
  },
  {
   "cell_type": "code",
   "execution_count": 21,
   "metadata": {
    "id": "d4PByPdGq0FV"
   },
   "outputs": [
    {
     "name": "stdout",
     "output_type": "stream",
     "text": [
      "CONFUSION MATRIX:\n",
      "[[83 36 25 10  3  4]\n",
      " [48 54 33 19  5  5]\n",
      " [28 38 36 24 20 14]\n",
      " [ 7 19 34 39 25 20]\n",
      " [ 9 20 32 38 39 35]\n",
      " [11 18 26 35 29 39]]\n",
      "ACCURACY SCORE:\n",
      "0.3021\n",
      "CLASSIFICATION REPORT:\n",
      "\tPrecision: 0.3039\n",
      "\tRecall: 0.3021\n",
      "\tF1_Score: 0.2996\n"
     ]
    },
    {
     "data": {
      "text/plain": "DecisionTreeClassifier()"
     },
     "execution_count": 21,
     "metadata": {},
     "output_type": "execute_result"
    }
   ],
   "source": [
    "classifiermanager.fit_predict(\"decision_tree\",datamanager,verbose=True)"
   ]
  },
  {
   "cell_type": "markdown",
   "metadata": {
    "id": "yQHjvOp7q11L"
   },
   "source": [
    "Try to improve it by tuning the hyper parameters (`max_depth`, the depth of the decision tree)."
   ]
  },
  {
   "cell_type": "code",
   "execution_count": 22,
   "metadata": {
    "id": "x1Fzl5BUq8JN"
   },
   "outputs": [
    {
     "name": "stdout",
     "output_type": "stream",
     "text": [
      "best params:  {'max_depth': 7}\n",
      "precision : 0.32109375\n",
      "test precision : 0.30104166666666665\n"
     ]
    }
   ],
   "source": [
    "grid = {'max_depth':np.arange(1,10)}\n",
    "\n",
    "classifiermanager.gridSearch(\"decision_tree\",grid,datamanager)"
   ]
  },
  {
   "cell_type": "markdown",
   "metadata": {
    "id": "M52Ys3hcq7ku"
   },
   "source": [
    "#### 4.5. Random Forest Classifier (without data cleaning)\n",
    "\n",
    "Try a Random Forest Classifier, using a Tfidf vectoriser. Show the accuracy, precision, recall and F1 score on the test set."
   ]
  },
  {
   "cell_type": "code",
   "execution_count": 23,
   "metadata": {
    "id": "sssF4NIGrNLa"
   },
   "outputs": [
    {
     "name": "stdout",
     "output_type": "stream",
     "text": [
      "CONFUSION MATRIX:\n",
      "[[122  19   9   8   2   1]\n",
      " [ 77  52  27   5   3   0]\n",
      " [ 39  41  46  24   7   3]\n",
      " [ 18  14  13  57  27  15]\n",
      " [ 16   9  24  54  50  20]\n",
      " [ 15  21  11  28  23  60]]\n",
      "ACCURACY SCORE:\n",
      "0.4031\n",
      "CLASSIFICATION REPORT:\n",
      "\tPrecision: 0.4148\n",
      "\tRecall: 0.4045\n",
      "\tF1_Score: 0.3935\n"
     ]
    },
    {
     "data": {
      "text/plain": "RandomForestClassifier()"
     },
     "execution_count": 23,
     "metadata": {},
     "output_type": "execute_result"
    }
   ],
   "source": [
    "classifiermanager.fit_predict(\"random_forest\",datamanager,verbose=True)\n"
   ]
  },
  {
   "cell_type": "markdown",
   "metadata": {
    "id": "z-8_3MK1rpZr"
   },
   "source": [
    "#### 4.6. Any other technique, including data cleaning if necessary\n",
    "\n",
    "Try to improve accuracy by training a better model using the techniques seen in class, or combinations of them.\n",
    "\n",
    "As usual, show the accuracy, precision, recall and f1 score on the test set."
   ]
  },
  {
   "cell_type": "markdown",
   "source": [
    "##### Searching for the best data_cleaner/vectorizer/classifier combination\n",
    "our approach is to find the bests cleaner/vectorizer/classifier combination. To do it we've created a little algorithm that tries all the combinations. The result is the five best combinations"
   ],
   "metadata": {
    "collapsed": false
   }
  },
  {
   "cell_type": "code",
   "execution_count": 26,
   "outputs": [
    {
     "name": "stderr",
     "output_type": "stream",
     "text": [
      "c:\\wamp64\\www\\demo_rdf\\venv\\lib\\site-packages\\sklearn\\svm\\_base.py:985: ConvergenceWarning: Liblinear failed to converge, increase the number of iterations.\n",
      "  warnings.warn(\"Liblinear failed to converge, increase \"\n",
      "c:\\wamp64\\www\\demo_rdf\\venv\\lib\\site-packages\\sklearn\\svm\\_base.py:985: ConvergenceWarning: Liblinear failed to converge, increase the number of iterations.\n",
      "  warnings.warn(\"Liblinear failed to converge, increase \"\n",
      "c:\\wamp64\\www\\demo_rdf\\venv\\lib\\site-packages\\sklearn\\metrics\\_classification.py:1248: UndefinedMetricWarning: Precision is ill-defined and being set to 0.0 in labels with no predicted samples. Use `zero_division` parameter to control this behavior.\n",
      "  _warn_prf(average, modifier, msg_start, len(result))\n"
     ]
    },
    {
     "name": "stdout",
     "output_type": "stream",
     "text": [
      "Best results:\n",
      "Vectorizer: TfidfVectorizer\n",
      "Classifier: MultinomialNB\n",
      "Cleaner: empty\n",
      "Accuracy: 0.4822916666666667\n",
      "\n",
      "Vectorizer: TfidfVectorizer\n",
      "Classifier: LinearSVC\n",
      "Cleaner: empty\n",
      "Accuracy: 0.47604166666666664\n",
      "\n",
      "Vectorizer: TfidfVectorizer\n",
      "Classifier: LogisticRegression\n",
      "Cleaner: lemmatize\n",
      "Accuracy: 0.471875\n",
      "\n",
      "Vectorizer: CountVectorizer\n",
      "Classifier: LogisticRegression\n",
      "Cleaner: lemmatize\n",
      "Accuracy: 0.4708333333333333\n",
      "\n",
      "Vectorizer: TfidfVectorizer\n",
      "Classifier: LogisticRegression\n",
      "Cleaner: empty\n",
      "Accuracy: 0.4666666666666667\n",
      "\n"
     ]
    }
   ],
   "source": [
    "datamanager.splitData(0.2,0)\n",
    "classifiermanager.searchBestCombinations(datamanager,[\"tfidf\",\"count\"],[\"linear_svc\",\"knn\",\"naive_bayes\",\"random_forest\",\"decision_tree\",\"logistic_regression\"],[\"empty\",\"data_cleaner\",\"lemmatize\"])"
   ],
   "metadata": {
    "collapsed": false,
    "pycharm": {
     "name": "#%%\n"
    }
   }
  },
  {
   "cell_type": "markdown",
   "source": [
    "##### Searching the best test_size for train test splitting\n",
    "we've found some interesting combination to explore, for those we've tried to find the best train test data spliting params.\n",
    "For test_size and Random_state\n"
   ],
   "metadata": {
    "collapsed": false
   }
  },
  {
   "cell_type": "code",
   "execution_count": 24,
   "outputs": [
    {
     "name": "stdout",
     "output_type": "stream",
     "text": [
      "Best test_size param for LinearSVC  with TfidfVectorizer\n",
      "best param value 0.024169999999999997\n",
      "best score  0.5641025641025641\n"
     ]
    },
    {
     "data": {
      "text/plain": "(0.024169999999999997, 0.5641025641025641)"
     },
     "execution_count": 24,
     "metadata": {},
     "output_type": "execute_result"
    }
   ],
   "source": [
    "method = classifiermanager.getClassifier(\"linear_svc\")\n",
    "vectorizer = datavectorizer.getVectorizer(\"tfidf\")\n",
    "\n",
    "datamanager.otpimize_test_size(method,vectorizer,np.arange(0.0241,0.0242,0.00001),verbose=True)"
   ],
   "metadata": {
    "collapsed": false,
    "pycharm": {
     "name": "#%%\n"
    }
   }
  },
  {
   "cell_type": "code",
   "execution_count": 28,
   "outputs": [
    {
     "name": "stdout",
     "output_type": "stream",
     "text": [
      "Best test_size param for MultinomialNB  with TfidfVectorizer\n",
      "best param value 0.024169999999999997\n",
      "best score  0.5128205128205128\n"
     ]
    },
    {
     "data": {
      "text/plain": "(0.024169999999999997, 0.5128205128205128)"
     },
     "execution_count": 28,
     "metadata": {},
     "output_type": "execute_result"
    }
   ],
   "source": [
    "method = classifiermanager.getClassifier(\"naive_bayes\")\n",
    "vectorizer = datavectorizer.getVectorizer(\"tfidf\")\n",
    "\n",
    "datamanager.otpimize_test_size(method,vectorizer,np.arange(0.0241,0.0242,0.00001),verbose=True)"
   ],
   "metadata": {
    "collapsed": false,
    "pycharm": {
     "name": "#%%\n"
    }
   }
  },
  {
   "cell_type": "code",
   "execution_count": 29,
   "outputs": [
    {
     "name": "stdout",
     "output_type": "stream",
     "text": [
      "Best test_size param for LogisticRegression  with TfidfVectorizer\n",
      "best param value 0.17\n",
      "best score  0.48592411260709917\n"
     ]
    },
    {
     "data": {
      "text/plain": "(0.17, 0.48592411260709917)"
     },
     "execution_count": 29,
     "metadata": {},
     "output_type": "execute_result"
    }
   ],
   "source": [
    "method = classifiermanager.getClassifier(\"logistic_regression\")\n",
    "vectorizer = datavectorizer.getVectorizer(\"tfidf\")\n",
    "\n",
    "datamanager.otpimize_test_size(method,vectorizer,np.arange(0.16,0.17,0.01),verbose=True)"
   ],
   "metadata": {
    "collapsed": false,
    "pycharm": {
     "name": "#%%\n"
    }
   }
  },
  {
   "cell_type": "markdown",
   "source": [
    "##### Searching the best random_state for train test splitting\n"
   ],
   "metadata": {
    "collapsed": false
   }
  },
  {
   "cell_type": "code",
   "execution_count": 30,
   "outputs": [
    {
     "name": "stdout",
     "output_type": "stream",
     "text": [
      "Best random_state param for LinearSVC  with TfidfVectorizer\n",
      "best param value 5\n",
      "best score  0.5982905982905983\n"
     ]
    },
    {
     "data": {
      "text/plain": "(5, 0.5982905982905983)"
     },
     "execution_count": 30,
     "metadata": {},
     "output_type": "execute_result"
    }
   ],
   "source": [
    "method = classifiermanager.getClassifier(\"linear_svc\")\n",
    "vectorizer = datavectorizer.getVectorizer(\"tfidf\")\n",
    "\n",
    "datamanager.otpimize_randomstate(method,vectorizer,np.arange(0,10),verbose=True,test_size=0.024169999999999997)"
   ],
   "metadata": {
    "collapsed": false,
    "pycharm": {
     "name": "#%%\n"
    }
   }
  },
  {
   "cell_type": "code",
   "execution_count": 31,
   "outputs": [
    {
     "name": "stdout",
     "output_type": "stream",
     "text": [
      "Best random_state param for MultinomialNB  with TfidfVectorizer\n",
      "best param value 5\n",
      "best score  0.6324786324786325\n"
     ]
    },
    {
     "data": {
      "text/plain": "(5, 0.6324786324786325)"
     },
     "execution_count": 31,
     "metadata": {},
     "output_type": "execute_result"
    }
   ],
   "source": [
    "method = classifiermanager.getClassifier(\"naive_bayes\")\n",
    "vectorizer = datavectorizer.getVectorizer(\"tfidf\")\n",
    "\n",
    "datamanager.otpimize_randomstate(method,vectorizer,np.arange(0,10),verbose=True,test_size=0.024169999999999997)"
   ],
   "metadata": {
    "collapsed": false,
    "pycharm": {
     "name": "#%%\n"
    }
   }
  },
  {
   "cell_type": "code",
   "execution_count": 28,
   "outputs": [
    {
     "name": "stdout",
     "output_type": "stream",
     "text": [
      "Best random_state param for LogisticRegression  with TfidfVectorizer\n",
      "best param value 0\n",
      "best score  0.48592411260709917\n"
     ]
    },
    {
     "data": {
      "text/plain": "(0, 0.48592411260709917)"
     },
     "execution_count": 28,
     "metadata": {},
     "output_type": "execute_result"
    }
   ],
   "source": [
    "method = classifiermanager.getClassifier(\"logistic_regression\")\n",
    "vectorizer = datavectorizer.getVectorizer(\"tfidf\")\n",
    "\n",
    "datamanager.otpimize_randomstate(method,vectorizer,np.arange(0,10),verbose=True,test_size=0.17)"
   ],
   "metadata": {
    "collapsed": false,
    "pycharm": {
     "name": "#%%\n"
    }
   }
  },
  {
   "cell_type": "markdown",
   "source": [
    "##### Doing some gridsearch"
   ],
   "metadata": {
    "collapsed": false
   }
  },
  {
   "cell_type": "code",
   "execution_count": 47,
   "outputs": [
    {
     "name": "stdout",
     "output_type": "stream",
     "text": [
      "best params:  {'alpha': 0.009000000000000001, 'fit_prior': True}\n",
      "pécision : 0.4219519926296874\n"
     ]
    }
   ],
   "source": [
    "\n",
    "param_grid = {\n",
    "    'alpha': np.arange(0.001,0.01,0.001),\n",
    "    \"fit_prior\":[True,False]\n",
    "}\n",
    "datavectorizer.fit(\"tfidf\",datamanager)\n",
    "\n",
    "classifiermanager.gridSearch(\"naive_bayes\",param_grid,datamanager)"
   ],
   "metadata": {
    "collapsed": false,
    "pycharm": {
     "name": "#%%\n"
    }
   }
  },
  {
   "cell_type": "markdown",
   "source": [
    "##### Fit predict some models\n",
    "we use the test_size and random state that we found for each classifier to have te most optimal result"
   ],
   "metadata": {
    "collapsed": false
   }
  },
  {
   "cell_type": "code",
   "execution_count": 31,
   "outputs": [
    {
     "name": "stdout",
     "output_type": "stream",
     "text": [
      "CONFUSION MATRIX:\n",
      "[[87 30 13  9  2  2]\n",
      " [40 56 25  7  4  6]\n",
      " [ 9 32 51 15  8 18]\n",
      " [ 7  5 13 60 22 18]\n",
      " [ 3  3  8 28 62 40]\n",
      " [ 6  7  7 14 19 81]]\n",
      "ACCURACY SCORE:\n",
      "0.4859\n",
      "CLASSIFICATION REPORT:\n",
      "\tPrecision: 0.4835\n",
      "\tRecall: 0.4854\n",
      "\tF1_Score: 0.4822\n"
     ]
    }
   ],
   "source": [
    "datamanager.splitData(0.17,0)\n",
    "\n",
    "datacleaner.clean(datamanager,[\"lemmatize\"])\n",
    "\n",
    "datavectorizer.fit(\"tfidf\",datamanager)\n",
    "\n",
    "classifiermanager.fit_predict(\"logistic_regression\",datamanager,verbose=True)\n",
    "\n",
    "datacleaner.unClean(datamanager) # unclean after a cleaning\n"
   ],
   "metadata": {
    "collapsed": false,
    "pycharm": {
     "name": "#%%\n"
    }
   }
  },
  {
   "cell_type": "code",
   "execution_count": 32,
   "outputs": [
    {
     "name": "stdout",
     "output_type": "stream",
     "text": [
      "CONFUSION MATRIX:\n",
      "[[15  3  0  0  1  0]\n",
      " [ 6 10  4  0  0  0]\n",
      " [ 0  6 11  0  1  0]\n",
      " [ 2  1  3  7  1  4]\n",
      " [ 0  1  1  1  8  7]\n",
      " [ 0  0  1  3  1 19]]\n",
      "ACCURACY SCORE:\n",
      "0.5983\n",
      "CLASSIFICATION REPORT:\n",
      "\tPrecision: 0.6025\n",
      "\tRecall: 0.5876\n",
      "\tF1_Score: 0.5835\n"
     ]
    },
    {
     "data": {
      "text/plain": "LinearSVC()"
     },
     "execution_count": 32,
     "metadata": {},
     "output_type": "execute_result"
    }
   ],
   "source": [
    "datamanager.splitData(0.024169999999999997,5)\n",
    "\n",
    "datavectorizer.fit(\"tfidf\",datamanager)\n",
    "\n",
    "classifiermanager.fit_predict(\"linear_svc\",datamanager,verbose=True)"
   ],
   "metadata": {
    "collapsed": false,
    "pycharm": {
     "name": "#%%\n"
    }
   }
  },
  {
   "cell_type": "code",
   "execution_count": 33,
   "outputs": [
    {
     "name": "stdout",
     "output_type": "stream",
     "text": [
      "CONFUSION MATRIX:\n",
      "[[13  5  1  0  0  0]\n",
      " [ 6 13  1  0  0  0]\n",
      " [ 1  4 11  0  1  1]\n",
      " [ 3  0  2  9  3  1]\n",
      " [ 0  1  0  0 12  5]\n",
      " [ 0  0  2  1  1 20]]\n",
      "ACCURACY SCORE:\n",
      "0.6667\n",
      "CLASSIFICATION REPORT:\n",
      "\tPrecision: 0.6874\n",
      "\tRecall: 0.6576\n",
      "\tF1_Score: 0.6609\n"
     ]
    },
    {
     "data": {
      "text/plain": "MultinomialNB(alpha=0.009000000000000001)"
     },
     "execution_count": 33,
     "metadata": {},
     "output_type": "execute_result"
    }
   ],
   "source": [
    "datamanager.splitData(0.024169999999999997,5)\n",
    "\n",
    "datavectorizer.fit(\"tfidf\",datamanager)\n",
    "\n",
    "classifiermanager.fit_predict(\"naive_bayes\",datamanager,verbose=True,params={'alpha': 0.009000000000000001, 'fit_prior': True})"
   ],
   "metadata": {
    "collapsed": false,
    "pycharm": {
     "name": "#%%\n"
    }
   }
  },
  {
   "cell_type": "code",
   "execution_count": 34,
   "outputs": [
    {
     "name": "stdout",
     "output_type": "stream",
     "text": [
      "CONFUSION MATRIX:\n",
      "[[95 33 10  4  0  1]\n",
      " [48 63 14  7  3  3]\n",
      " [11 34 57 13 10  8]\n",
      " [12 10 17 57 15 14]\n",
      " [10  9 13 36 50 26]\n",
      " [ 8 10  9 21 21 65]]\n",
      "ACCURACY SCORE:\n",
      "0.4737\n",
      "CLASSIFICATION REPORT:\n",
      "\tPrecision: 0.4769\n",
      "\tRecall: 0.4730\n",
      "\tF1_Score: 0.4698\n"
     ]
    },
    {
     "data": {
      "text/plain": "<lib.DataManager.DataManager at 0x22c9f038790>"
     },
     "execution_count": 34,
     "metadata": {},
     "output_type": "execute_result"
    }
   ],
   "source": [
    "datamanager.splitData(0.17,0)\n",
    "\n",
    "datacleaner.clean(datamanager,[\"lemmatize\"])\n",
    "\n",
    "datavectorizer.fit(\"count\",datamanager)\n",
    "\n",
    "classifiermanager.fit_predict(\"logistic_regression\",datamanager,verbose=True)\n",
    "\n",
    "datacleaner.unClean(datamanager) # unclean after a cleaning"
   ],
   "metadata": {
    "collapsed": false,
    "pycharm": {
     "name": "#%%\n"
    }
   }
  },
  {
   "cell_type": "code",
   "execution_count": 35,
   "outputs": [
    {
     "name": "stdout",
     "output_type": "stream",
     "text": [
      "CONFUSION MATRIX:\n",
      "[[87 30 13  9  2  2]\n",
      " [40 56 25  7  4  6]\n",
      " [ 9 32 51 15  8 18]\n",
      " [ 7  5 13 60 22 18]\n",
      " [ 3  3  8 28 62 40]\n",
      " [ 6  7  7 14 19 81]]\n",
      "ACCURACY SCORE:\n",
      "0.4859\n",
      "CLASSIFICATION REPORT:\n",
      "\tPrecision: 0.4835\n",
      "\tRecall: 0.4854\n",
      "\tF1_Score: 0.4822\n"
     ]
    },
    {
     "data": {
      "text/plain": "LogisticRegression(max_iter=1000, random_state=50)"
     },
     "execution_count": 35,
     "metadata": {},
     "output_type": "execute_result"
    }
   ],
   "source": [
    "datamanager.splitData(0.17,0)\n",
    "\n",
    "datavectorizer.fit(\"tfidf\",datamanager)\n",
    "\n",
    "classifiermanager.fit_predict(\"logistic_regression\",datamanager,verbose=True)"
   ],
   "metadata": {
    "collapsed": false,
    "pycharm": {
     "name": "#%%\n"
    }
   }
  },
  {
   "cell_type": "markdown",
   "metadata": {
    "id": "82FvnJycsBFf"
   },
   "source": [
    "#### 4.7. Show a summary of your results\n",
    "To remind here are the best result of the search of best combination. So we tried to find the special parameters of these combinations."
   ]
  },
  {
   "cell_type": "markdown",
   "source": [
    "Best results:\n",
    "Vectorizer: TfidfVectorizer\n",
    "Classifier: MultinomialNB\n",
    "Cleaner: empty\n",
    "\n",
    "Vectorizer: TfidfVectorizer\n",
    "Classifier: LinearSVC\n",
    "Cleaner: empty\n",
    "\n",
    "Vectorizer: TfidfVectorizer\n",
    "Classifier: LogisticRegression\n",
    "Cleaner: lemmatize\n",
    "\n",
    "Vectorizer: CountVectorizer\n",
    "Classifier: LogisticRegression\n",
    "Cleaner: lemmatize\n",
    "\n",
    "Vectorizer: TfidfVectorizer\n",
    "Classifier: LogisticRegression\n",
    "Cleaner: empty\n"
   ],
   "metadata": {
    "collapsed": false
   }
  },
  {
   "cell_type": "markdown",
   "source": [
    "Here is a table result (handmade)"
   ],
   "metadata": {
    "collapsed": false
   }
  },
  {
   "cell_type": "code",
   "execution_count": 37,
   "outputs": [
    {
     "data": {
      "text/plain": "                                    combination  accurancy\n0           TfidfVectorizer/MultinomialNB/empty     0.6667\n1               TfidfVectorizer/LinearSVC/empty     0.5983\n2  TfidfVectorizer/LogisticRegression/lemmatize     0.4859\n3      CountVectorizer/LogisticRegression/empty     0.4737\n4      TfidfVectorizer/LogisticRegression/empty     0.4859",
      "text/html": "<div>\n<style scoped>\n    .dataframe tbody tr th:only-of-type {\n        vertical-align: middle;\n    }\n\n    .dataframe tbody tr th {\n        vertical-align: top;\n    }\n\n    .dataframe thead th {\n        text-align: right;\n    }\n</style>\n<table border=\"1\" class=\"dataframe\">\n  <thead>\n    <tr style=\"text-align: right;\">\n      <th></th>\n      <th>combination</th>\n      <th>accurancy</th>\n    </tr>\n  </thead>\n  <tbody>\n    <tr>\n      <th>0</th>\n      <td>TfidfVectorizer/MultinomialNB/empty</td>\n      <td>0.6667</td>\n    </tr>\n    <tr>\n      <th>1</th>\n      <td>TfidfVectorizer/LinearSVC/empty</td>\n      <td>0.5983</td>\n    </tr>\n    <tr>\n      <th>2</th>\n      <td>TfidfVectorizer/LogisticRegression/lemmatize</td>\n      <td>0.4859</td>\n    </tr>\n    <tr>\n      <th>3</th>\n      <td>CountVectorizer/LogisticRegression/empty</td>\n      <td>0.4737</td>\n    </tr>\n    <tr>\n      <th>4</th>\n      <td>TfidfVectorizer/LogisticRegression/empty</td>\n      <td>0.4859</td>\n    </tr>\n  </tbody>\n</table>\n</div>"
     },
     "execution_count": 37,
     "metadata": {},
     "output_type": "execute_result"
    }
   ],
   "source": [
    "data = {'combination': ['TfidfVectorizer/MultinomialNB/empty', 'TfidfVectorizer/LinearSVC/empty', 'TfidfVectorizer/LogisticRegression/lemmatize','CountVectorizer/LogisticRegression/empty','TfidfVectorizer/LogisticRegression/empty'],\n",
    "        'accurancy': [0.6667, 0.5983, 0.4859,0.4737,0.4859]}\n",
    "\n",
    "df = pd.DataFrame(data)\n",
    "\n",
    "df.head()\n",
    "\n"
   ],
   "metadata": {
    "collapsed": false,
    "pycharm": {
     "name": "#%%\n"
    }
   }
  }
 ],
 "metadata": {
  "colab": {
   "provenance": []
  },
  "kernelspec": {
   "display_name": "Python 3 (ipykernel)",
   "language": "python",
   "name": "python3"
  },
  "language_info": {
   "codemirror_mode": {
    "name": "ipython",
    "version": 3
   },
   "file_extension": ".py",
   "mimetype": "text/x-python",
   "name": "python",
   "nbconvert_exporter": "python",
   "pygments_lexer": "ipython3",
   "version": "3.8.12"
  },
  "toc": {
   "base_numbering": 1,
   "nav_menu": {},
   "number_sections": true,
   "sideBar": true,
   "skip_h1_title": false,
   "title_cell": "Table of Contents",
   "title_sidebar": "Contents",
   "toc_cell": false,
   "toc_position": {},
   "toc_section_display": true,
   "toc_window_display": false
  }
 },
 "nbformat": 4,
 "nbformat_minor": 0
}