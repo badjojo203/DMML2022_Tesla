{
 "cells": [
  {
   "cell_type": "markdown",
   "metadata": {
    "id": "8ZKqCFFbNZ04"
   },
   "source": [
    "# Data Mining and Machine Learning - Project\n",
    "\n",
    "## Detecting Difficulty Level of French Texts\n",
    "\n",
    "### Step by step guidelines\n",
    "\n",
    "The following are a set of step by step guidelines to help you get started with your project for the Data Mining and Machine Learning class. \n",
    "To test what you learned in the class, we will hold a competition. You will create a classifier that predicts how the level of some text in French (A1,..., C2). The team with the highest rank will get some goodies in the last class (some souvenirs from tech companies: Amazon, LinkedIn, etc).\n",
    "\n",
    "**2 people per team**\n",
    "\n",
    "Choose a team here:\n",
    "https://moodle.unil.ch/mod/choicegroup/view.php?id=1305831\n",
    "\n",
    "\n",
    "#### 1. 📂 Create a public GitHub repository for your team using this naming convention `DMML2022_[your_team_name]` with the following structure:\n",
    "- data (folder) \n",
    "- code (folder) \n",
    "- documentation (folder)\n",
    "- a readme file (.md): *mention team name, participants, brief description of the project, approach, summary of results table and link to the explainatory video (see below).*\n",
    "\n",
    "All team members should contribute to the GitHub repository.\n",
    "\n",
    "#### 2. 🇰 Join the competititon on Kaggle using the invitation link we sent on Slack.\n",
    "\n",
    "Under the Team tab, save your team name (`UNIL_your_team_name`) and make sure your team members join in as well. You can merge your user account with your teammates in order to create a team.\n",
    "\n",
    "#### 3. 📓 Read the data into your colab notebook. There should be one code notebook per team, but all team members can participate and contribute code. \n",
    "\n",
    "You can use either direct the Kaggle API and your Kaggle credentials (as explained below and **entirely optional**), or dowload the data form Kaggle and upload it onto your team's GitHub repository under the data subfolder.\n",
    "\n",
    "#### 4. 💎 Train your models and upload the code under your team's GitHub repo. Set the `random_state=0`.\n",
    "- baseline\n",
    "- logistic regression with TFidf vectoriser (simple, no data cleaning)\n",
    "- KNN & hyperparameter optimisation (simple, no data cleaning)\n",
    "- Decision Tree classifier & hyperparameter optimisation (simple, no data cleaning)\n",
    "- Random Forests classifier (simple, no data cleaning)\n",
    "- another technique or combination of techniques of your choice\n",
    "\n",
    "BE CREATIVE! You can use whatever method you want, in order to climb the leaderboard. The only rule is that it must be your own work. Given that, you can use all the online resources you want. \n",
    "\n",
    "#### 5. 🎥 Create a YouTube video (5-10 minutes) of your solution and embed it in your notebook. Explain the algorithms used and the evaluation of your solutions. *Select* projects will also be presented live by the group during the last class.\n",
    "\n",
    "\n",
    "### Submission details (one per team)\n",
    "\n",
    "1. Download a ZIPped file of your team's repository and submit it in Moodle here. IMPORTANT: in the comment of the submission, insert a link to the repository on Github.\n",
    "https://moodle.unil.ch/mod/assign/view.php?id=1305833\n",
    "\n",
    "\n",
    "\n",
    "### Grading (one per team)\n",
    "- 20% Kaggle Rank\n",
    "- 50% code quality (using classes, splitting into proper files, documentation, etc)\n",
    "- 15% github quality (include link to video, table with progress over time, organization of code, images, etc)\n",
    "- 15% video quality (good sound, good slides, interesting presentation)."
   ]
  },
  {
   "cell_type": "markdown",
   "metadata": {
    "id": "9-14CAdOoinM"
   },
   "source": [
    "## Some further details for points 3 and 4 above.\n",
    "\n",
    "### 3. Read data into your notebook with the Kaggle API (optional but useful). \n",
    "\n",
    "You can also download the data from Kaggle and put it in your team's repo the data folder."
   ]
  },
  {
   "cell_type": "code",
   "execution_count": 90,
   "metadata": {
    "colab": {
     "base_uri": "https://localhost:8080/"
    },
    "id": "UJ_hnJzSNO2g",
    "outputId": "2657bdeb-ca0f-4679-cd1d-0f337fccf074"
   },
   "outputs": [],
   "source": [
    "# reading in the data via the Kaggle API\n",
    "\n",
    "# mount your Google Drive\n",
    "#from google.colab import drive\n",
    "#drive.mount('/content/drive', force_remount=True)"
   ]
  },
  {
   "cell_type": "code",
   "execution_count": 91,
   "metadata": {
    "colab": {
     "base_uri": "https://localhost:8080/"
    },
    "id": "mJPTz3D7TeQv",
    "outputId": "e53838f1-7de2-45ff-933a-7a9420c60799"
   },
   "outputs": [],
   "source": [
    "# install Kaggle\n",
    "#! pip install kaggle"
   ]
  },
  {
   "cell_type": "markdown",
   "metadata": {
    "id": "ZKG1TCddRYTB"
   },
   "source": [
    "### IMPORTANT\n",
    "Log into your Kaggle account, go to Account > API > Create new API token. You will obtain a kaggle.json file. Save it in your Google Drive (not in a folder, in your general drive)."
   ]
  },
  {
   "cell_type": "code",
   "execution_count": 92,
   "metadata": {
    "colab": {
     "base_uri": "https://localhost:8080/"
    },
    "id": "JgzLj451YDfV",
    "outputId": "85a09b6e-e3e2-470d-cd90-6fdbd0bdd24f"
   },
   "outputs": [],
   "source": [
    "#!mkdir ~/.kaggle"
   ]
  },
  {
   "cell_type": "code",
   "execution_count": 93,
   "metadata": {
    "id": "KrsZLalrSI3u"
   },
   "outputs": [],
   "source": [
    "#read in your Kaggle credentials from Google Drive\n",
    "#!cp /content/drive/MyDrive/kaggle.json ~/.kaggle/kaggle.json\n"
   ]
  },
  {
   "cell_type": "code",
   "execution_count": 94,
   "metadata": {
    "id": "1hfgvwNaqLLM"
   },
   "outputs": [],
   "source": [
    "#!mkdir data\n"
   ]
  },
  {
   "cell_type": "code",
   "execution_count": 95,
   "metadata": {
    "colab": {
     "base_uri": "https://localhost:8080/"
    },
    "id": "BDI60LXKTPzf",
    "outputId": "34a95d65-6d0a-4354-ee6b-5a31a39399f7"
   },
   "outputs": [],
   "source": [
    "# download the dataset from the competition page\n",
    "#! kaggle competitions download -c detecting-french-texts-difficulty-level-2022"
   ]
  },
  {
   "cell_type": "code",
   "execution_count": 96,
   "metadata": {
    "id": "L7fA34PWqLLN"
   },
   "outputs": [],
   "source": [
    "#!unzip \"detecting-french-texts-difficulty-level-2022.zip\" -d data"
   ]
  },
  {
   "cell_type": "code",
   "execution_count": 97,
   "metadata": {
    "id": "daqvj7feTx60"
   },
   "outputs": [],
   "source": [
    "# read in your training data\n",
    "import pandas as pd\n",
    "import numpy as np\n",
    "\n",
    "\n",
    "df = pd.read_csv('../data/training_data.csv')"
   ]
  },
  {
   "cell_type": "code",
   "execution_count": 98,
   "metadata": {
    "colab": {
     "base_uri": "https://localhost:8080/",
     "height": 206
    },
    "id": "VxRSnk5bhTp8",
    "outputId": "80616e55-545c-4b80-fd32-99de0b0e4124"
   },
   "outputs": [
    {
     "data": {
      "text/plain": "   id                                           sentence difficulty\n0   0  Les coûts kilométriques réels peuvent diverger...         C1\n1   1  Le bleu, c'est ma couleur préférée mais je n'a...         A1\n2   2  Le test de niveau en français est sur le site ...         A1\n3   3           Est-ce que ton mari est aussi de Boston?         A1\n4   4  Dans les écoles de commerce, dans les couloirs...         B1",
      "text/html": "<div>\n<style scoped>\n    .dataframe tbody tr th:only-of-type {\n        vertical-align: middle;\n    }\n\n    .dataframe tbody tr th {\n        vertical-align: top;\n    }\n\n    .dataframe thead th {\n        text-align: right;\n    }\n</style>\n<table border=\"1\" class=\"dataframe\">\n  <thead>\n    <tr style=\"text-align: right;\">\n      <th></th>\n      <th>id</th>\n      <th>sentence</th>\n      <th>difficulty</th>\n    </tr>\n  </thead>\n  <tbody>\n    <tr>\n      <th>0</th>\n      <td>0</td>\n      <td>Les coûts kilométriques réels peuvent diverger...</td>\n      <td>C1</td>\n    </tr>\n    <tr>\n      <th>1</th>\n      <td>1</td>\n      <td>Le bleu, c'est ma couleur préférée mais je n'a...</td>\n      <td>A1</td>\n    </tr>\n    <tr>\n      <th>2</th>\n      <td>2</td>\n      <td>Le test de niveau en français est sur le site ...</td>\n      <td>A1</td>\n    </tr>\n    <tr>\n      <th>3</th>\n      <td>3</td>\n      <td>Est-ce que ton mari est aussi de Boston?</td>\n      <td>A1</td>\n    </tr>\n    <tr>\n      <th>4</th>\n      <td>4</td>\n      <td>Dans les écoles de commerce, dans les couloirs...</td>\n      <td>B1</td>\n    </tr>\n  </tbody>\n</table>\n</div>"
     },
     "execution_count": 98,
     "metadata": {},
     "output_type": "execute_result"
    }
   ],
   "source": [
    "df.head()"
   ]
  },
  {
   "cell_type": "markdown",
   "metadata": {
    "id": "1kpfbtndj0jL"
   },
   "source": [
    "Have a look at the data on which to make predictions."
   ]
  },
  {
   "cell_type": "code",
   "execution_count": 99,
   "metadata": {
    "colab": {
     "base_uri": "https://localhost:8080/",
     "height": 206
    },
    "id": "7G75Q1gRj49l",
    "outputId": "0fdf7e2a-db10-4cf8-9416-f36f6851a1d2"
   },
   "outputs": [
    {
     "data": {
      "text/plain": "   id                                           sentence\n0   0  Nous dûmes nous excuser des propos que nous eû...\n1   1  Vous ne pouvez pas savoir le plaisir que j'ai ...\n2   2  Et, paradoxalement, boire froid n'est pas la b...\n3   3  Ce n'est pas étonnant, car c'est une saison my...\n4   4  Le corps de Golo lui-même, d'une essence aussi...",
      "text/html": "<div>\n<style scoped>\n    .dataframe tbody tr th:only-of-type {\n        vertical-align: middle;\n    }\n\n    .dataframe tbody tr th {\n        vertical-align: top;\n    }\n\n    .dataframe thead th {\n        text-align: right;\n    }\n</style>\n<table border=\"1\" class=\"dataframe\">\n  <thead>\n    <tr style=\"text-align: right;\">\n      <th></th>\n      <th>id</th>\n      <th>sentence</th>\n    </tr>\n  </thead>\n  <tbody>\n    <tr>\n      <th>0</th>\n      <td>0</td>\n      <td>Nous dûmes nous excuser des propos que nous eû...</td>\n    </tr>\n    <tr>\n      <th>1</th>\n      <td>1</td>\n      <td>Vous ne pouvez pas savoir le plaisir que j'ai ...</td>\n    </tr>\n    <tr>\n      <th>2</th>\n      <td>2</td>\n      <td>Et, paradoxalement, boire froid n'est pas la b...</td>\n    </tr>\n    <tr>\n      <th>3</th>\n      <td>3</td>\n      <td>Ce n'est pas étonnant, car c'est une saison my...</td>\n    </tr>\n    <tr>\n      <th>4</th>\n      <td>4</td>\n      <td>Le corps de Golo lui-même, d'une essence aussi...</td>\n    </tr>\n  </tbody>\n</table>\n</div>"
     },
     "execution_count": 99,
     "metadata": {},
     "output_type": "execute_result"
    }
   ],
   "source": [
    "df_pred = pd.read_csv('../data/unlabelled_test_data.csv')\n",
    "df_pred.head()"
   ]
  },
  {
   "cell_type": "markdown",
   "metadata": {
    "id": "a37hWJ_ckBlk"
   },
   "source": [
    "And this is the format for your submissions."
   ]
  },
  {
   "cell_type": "code",
   "execution_count": 100,
   "metadata": {
    "colab": {
     "base_uri": "https://localhost:8080/",
     "height": 206
    },
    "id": "gk9H2dLHkFBa",
    "outputId": "e823ec1a-db03-4b6b-ca0c-7f89a93f02a8"
   },
   "outputs": [],
   "source": [
    "#df_example_submission = pd.read_csv('/content/data/sample_submission.csv')\n",
    "#df_example_submission.head()"
   ]
  },
  {
   "cell_type": "markdown",
   "metadata": {
    "id": "FfTgL1erjqQ6"
   },
   "source": [
    "### 4. Train your models\n",
    "\n",
    "Set your X and y variables. \n",
    "Set the `random_state=0`\n",
    "Split the data into a train and test set using the following parameters `train_test_split(X, y, test_size=0.2, random_state=0)`.\n",
    "\n",
    "#### 4.1.Baseline\n",
    "What is the baseline for this classification problem?"
   ]
  },
  {
   "cell_type": "code",
   "execution_count": 101,
   "metadata": {
    "id": "t4O_pYiHpiRd"
   },
   "outputs": [],
   "source": [
    "np.random.seed = 0"
   ]
  },
  {
   "cell_type": "code",
   "execution_count": 102,
   "metadata": {
    "id": "WDdFr4xsk5Qf"
   },
   "outputs": [],
   "source": [
    "from sklearn.model_selection import train_test_split\n",
    "from sklearn.preprocessing import LabelEncoder\n",
    "from sklearn.metrics import confusion_matrix, accuracy_score, precision_score, recall_score, f1_score\n",
    "labelencoder = LabelEncoder()\n",
    "df['le_difficulty'] = labelencoder.fit_transform(df['difficulty'])\n",
    "df.head(5)\n",
    "\n",
    "from sklearn.preprocessing import OneHotEncoder\n",
    "df = pd.get_dummies(df, columns=[\"difficulty\"])\n",
    "df.head(5)\n",
    "\n",
    "X = df[[\"id\", \"sentence\"]]\n",
    "y = df[\"le_difficulty\"]\n",
    "\n",
    "X_train, X_test, y_train, y_test = train_test_split(X, y, test_size=0.2, random_state=0)"
   ]
  },
  {
   "cell_type": "markdown",
   "metadata": {
    "id": "SlvbPYa0k78l"
   },
   "source": [
    "#### 4.2. Logistic Regression (without data cleaning)\n",
    "\n",
    "Train a simple logistic regression model using a Tfidf vectoriser."
   ]
  },
  {
   "cell_type": "code",
   "execution_count": 103,
   "metadata": {
    "id": "eEe3-QNlow4H"
   },
   "outputs": [],
   "source": [
    "from sklearn.linear_model import LogisticRegression, LinearRegression\n",
    "from sklearn.feature_extraction.text import TfidfVectorizer\n",
    "tfidf = TfidfVectorizer()\n",
    "X_train_tfidf = tfidf.fit_transform(X_train[\"sentence\"])\n",
    "X_test_tfidf = tfidf.transform((X_test[\"sentence\"]))"
   ]
  },
  {
   "cell_type": "code",
   "execution_count": 104,
   "outputs": [],
   "source": [
    "from sklearn.linear_model import LogisticRegressionCV\n",
    "LogRcv = LogisticRegressionCV(cv=5,solver='lbfgs', max_iter=1000, random_state=50).fit(X_train_tfidf, y_train)\n",
    "y_pred_LogRcv = LogRcv.predict(X_test_tfidf)"
   ],
   "metadata": {
    "collapsed": false
   }
  },
  {
   "cell_type": "code",
   "execution_count": 105,
   "outputs": [],
   "source": [
    "LogR = LogisticRegression(solver='lbfgs', max_iter=1000, random_state=50).fit(X_train_tfidf, y_train)\n",
    "y_pred_LogR = LogR.predict(X_test_tfidf)"
   ],
   "metadata": {
    "collapsed": false
   }
  },
  {
   "cell_type": "code",
   "execution_count": 106,
   "outputs": [],
   "source": [
    "LinR = LinearRegression().fit(X_train_tfidf, y_train)\n",
    "y_pred_LinR = LinR.predict(X_test_tfidf)"
   ],
   "metadata": {
    "collapsed": false
   }
  },
  {
   "cell_type": "markdown",
   "metadata": {
    "id": "bZ-qO8C5oyov"
   },
   "source": [
    "Calculate accuracy, precision, recall and F1 score on the test set."
   ]
  },
  {
   "cell_type": "code",
   "execution_count": 107,
   "metadata": {
    "id": "PViIQdnDpASy"
   },
   "outputs": [
    {
     "name": "stdout",
     "output_type": "stream",
     "text": [
      "CONFUSION MATRIX:\n",
      "[[91 34 20  9  4  3]\n",
      " [50 62 34  3  5 10]\n",
      " [12 35 72 14  7 20]\n",
      " [ 6  6 18 67 24 23]\n",
      " [ 3  5 13 40 65 47]\n",
      " [ 7  6  9 16 23 97]]\n",
      "ACCURACY SCORE:\n",
      "0.4729\n",
      "CLASSIFICATION REPORT:\n",
      "\tPrecision: 0.4227\n",
      "\tRecall: 0.3678\n",
      "\tF1_Score: 0.3575\n"
     ]
    }
   ],
   "source": [
    "def evaluate(true, pred):\n",
    "    precision = precision_score(y_test, y_pred, average=\"macro\")\n",
    "    recall = recall_score(y_test, y_pred, average=\"macro\")\n",
    "    f1 = f1_score(y_test, y_pred, average=\"macro\")\n",
    "    print(f\"CONFUSION MATRIX:\\n{confusion_matrix(true, pred)}\")\n",
    "    print(f\"ACCURACY SCORE:\\n{accuracy_score(true, pred):.4f}\")\n",
    "    print(f\"CLASSIFICATION REPORT:\\n\\tPrecision: {precision:.4f}\\n\\tRecall: {recall:.4f}\\n\\tF1_Score: {f1:.4f}\")\n",
    "\n",
    "evaluate(y_test, y_pred_LogRcv)"
   ]
  },
  {
   "cell_type": "markdown",
   "metadata": {
    "id": "9D3_dp3apcmr"
   },
   "source": [
    "Have a look at the confusion matrix and identify a few examples of sentences that are not well classified."
   ]
  },
  {
   "cell_type": "code",
   "execution_count": 108,
   "metadata": {
    "id": "ZSyKq3h_qZmX"
   },
   "outputs": [
    {
     "name": "stdout",
     "output_type": "stream",
     "text": [
      "0.4729\n"
     ]
    },
    {
     "data": {
      "text/plain": "<Figure size 1000x1000 with 2 Axes>",
      "image/png": "[encoded data removed]"
     },
     "metadata": {},
     "output_type": "display_data"
    }
   ],
   "source": [
    "import seaborn as sns\n",
    "import matplotlib.pyplot as plt\n",
    "\n",
    "def accuracy_conf_mat(y_test, y_pred):\n",
    "    print(round(accuracy_score(y_test, y_pred), 4))\n",
    "    conf_mat = confusion_matrix(y_test, y_pred)\n",
    "    fig, ax = plt.subplots(figsize=(10,10))\n",
    "    sns.heatmap(conf_mat, annot=True, fmt='d')\n",
    "    plt.ylabel('Actual')\n",
    "    plt.xlabel('Predicted')\n",
    "    plt.show()\n",
    "accuracy_conf_mat(y_test, y_pred_LogRcv)"
   ]
  },
  {
   "cell_type": "markdown",
   "metadata": {
    "id": "9TTEiuXasNFg"
   },
   "source": [
    "Generate your first predictions on the `unlabelled_test_data.csv`. make sure your predictions match the format of the `unlabelled_test_data.csv`."
   ]
  },
  {
   "cell_type": "code",
   "execution_count": 109,
   "outputs": [],
   "source": [
    "# X_train, X_test, y_train, y_test = train_test_split(X, y, test_size=0.2, random_state=0)\n",
    "# x_pred_unlabelled = df_pred[[\"id\", \"sentence\"]]\n",
    "# x_pred_unlabelled_tfidf = tfidf.transform(x_pred_unlabelled[\"sentence\"])\n",
    "# y_pred_unlabelled = LRcv.predict(x_pred_unlabelled_tfidf)\n",
    "#\n",
    "# evaluate(y_test, y_pred_unlabelled)"
   ],
   "metadata": {
    "collapsed": false
   }
  },
  {
   "cell_type": "markdown",
   "metadata": {
    "id": "vXG_yIG_pQ8t"
   },
   "source": [
    "#### 4.3. KNN (without data cleaning)\n",
    "\n",
    "Train a KNN classification model using a Tfidf vectoriser. Show the accuracy, precision, recall and F1 score on the test set."
   ]
  },
  {
   "cell_type": "code",
   "execution_count": 110,
   "metadata": {
    "id": "GPRjD1rSqKKZ"
   },
   "outputs": [
    {
     "name": "stdout",
     "output_type": "stream",
     "text": [
      "CONFUSION MATRIX:\n",
      "[[123  25  10   1   1   1]\n",
      " [101  48  10   3   1   1]\n",
      " [ 89  39  26   4   0   2]\n",
      " [ 58  29  16  33   1   7]\n",
      " [ 64  37  23  19  20  10]\n",
      " [ 49  33  15  16   5  40]]\n",
      "ACCURACY SCORE:\n",
      "0.3021\n",
      "CLASSIFICATION REPORT:\n",
      "\tPrecision: 0.4243\n",
      "\tRecall: 0.3028\n",
      "\tF1_Score: 0.2836\n"
     ]
    }
   ],
   "source": [
    "from sklearn.neighbors import KNeighborsClassifier\n",
    "knn = KNeighborsClassifier(n_neighbors=3)\n",
    "knn.fit(X_train_tfidf, y_train)\n",
    "\n",
    "y_pred = knn.predict(X_test_tfidf)\n",
    "\n",
    "evaluate(y_test,y_pred)"
   ]
  },
  {
   "cell_type": "markdown",
   "metadata": {
    "id": "D6rH2Hx0qtB2"
   },
   "source": [
    "Try to improve it by tuning the hyper parameters (`n_neighbors`,   `p`, `weights`)."
   ]
  },
  {
   "cell_type": "code",
   "execution_count": 111,
   "metadata": {
    "id": "wRy18Ce_qxPc"
   },
   "outputs": [
    {
     "name": "stdout",
     "output_type": "stream",
     "text": [
      "Fitting 5 folds for each of 36 candidates, totalling 180 fits\n",
      "Hyperparameters: {'n_neighbors': 4, 'p': 2, 'weights': 'distance'}\n",
      "Train Score: 0.3513\n",
      "Test Score: 0.3677\n",
      "CONFUSION MATRIX:\n",
      "[[116  27  14   1   1   2]\n",
      " [ 79  64  15   4   1   1]\n",
      " [ 65  38  44   8   2   3]\n",
      " [ 37  25  23  40   2  17]\n",
      " [ 37  30  23  26  36  21]\n",
      " [ 34  22  19  13  17  53]]\n",
      "ACCURACY SCORE:\n",
      "0.3677\n",
      "CLASSIFICATION REPORT:\n",
      "\tPrecision: 0.4227\n",
      "\tRecall: 0.3678\n",
      "\tF1_Score: 0.3575\n"
     ]
    }
   ],
   "source": [
    "from sklearn.model_selection import GridSearchCV\n",
    "\n",
    "# Define parameters to test\n",
    "grid = {'n_neighbors':np.arange(1,10),\n",
    "        'p':np.arange(1,3),\n",
    "        'weights':['uniform','distance']\n",
    "        }\n",
    "\n",
    "knn2 = KNeighborsClassifier()\n",
    "\n",
    "knn_cv = GridSearchCV(knn2, grid, cv=5, scoring='accuracy', return_train_score=False, verbose=1)\n",
    "\n",
    "knn_cv.fit(X_train_tfidf, y_train)\n",
    "\n",
    "y_pred = knn_cv.predict(X_test_tfidf)\n",
    "\n",
    "print(\"Hyperparameters:\", knn_cv.best_params_)\n",
    "print(\"Train Score:\", round(knn_cv.best_score_, 4))\n",
    "print(\"Test Score:\", round(knn_cv.score(X_test_tfidf, y_test), 4))\n",
    "evaluate(y_test, y_pred)"
   ]
  },
  {
   "cell_type": "markdown",
   "metadata": {
    "id": "FFNH1WgNqc62"
   },
   "source": [
    "#### 4.4. Decision Tree Classifier (without data cleaning)\n",
    "\n",
    "Train a Decison Tree classifier, using a Tfidf vectoriser. Show the accuracy, precision, recall and F1 score on the test set."
   ]
  },
  {
   "cell_type": "code",
   "execution_count": 112,
   "metadata": {
    "id": "d4PByPdGq0FV"
   },
   "outputs": [
    {
     "name": "stdout",
     "output_type": "stream",
     "text": [
      "CONFUSION MATRIX:\n",
      "[[116  27  14   1   1   2]\n",
      " [ 79  64  15   4   1   1]\n",
      " [ 65  38  44   8   2   3]\n",
      " [ 37  25  23  40   2  17]\n",
      " [ 37  30  23  26  36  21]\n",
      " [ 34  22  19  13  17  53]]\n",
      "ACCURACY SCORE:\n",
      "0.3677\n",
      "CLASSIFICATION REPORT:\n",
      "\tPrecision: 0.4227\n",
      "\tRecall: 0.3678\n",
      "\tF1_Score: 0.3575\n"
     ]
    }
   ],
   "source": [
    "\n",
    "# import decision tree classifier\n",
    "from sklearn.tree import DecisionTreeClassifier\n",
    "\n",
    "# create decision tree classifier object\n",
    "dtc = DecisionTreeClassifier()\n",
    "\n",
    "# train model\n",
    "dtc.fit(X_train_tfidf, y_train)\n",
    "\n",
    "# make predictions\n",
    "y_pred_dtc = dtc.predict(X_test_tfidf)\n",
    "\n",
    "# evaluate model\n",
    "evaluate(y_test, y_pred)"
   ]
  },
  {
   "cell_type": "markdown",
   "metadata": {
    "id": "yQHjvOp7q11L"
   },
   "source": [
    "Try to improve it by tuning the hyper parameters (`max_depth`, the depth of the decision tree)."
   ]
  },
  {
   "cell_type": "code",
   "execution_count": 113,
   "metadata": {
    "id": "x1Fzl5BUq8JN"
   },
   "outputs": [
    {
     "name": "stdout",
     "output_type": "stream",
     "text": [
      "Fitting 5 folds for each of 9 candidates, totalling 45 fits\n",
      "Hyperparameters: {'max_depth': 7}\n",
      "Train Score: 0.3216\n",
      "Test Score: 0.3021\n"
     ]
    }
   ],
   "source": [
    "# create decision tree classifier object\n",
    "dtc2 = DecisionTreeClassifier()\n",
    "\n",
    "# define parameters to test\n",
    "grid = {'max_depth':np.arange(1,10)}\n",
    "\n",
    "# train model\n",
    "dtc_cv = GridSearchCV(dtc2, grid, cv=5, scoring='accuracy', return_train_score=False, verbose=1)\n",
    "dtc_cv.fit(X_train_tfidf, y_train)\n",
    "\n",
    "# make predictions\n",
    "y_pred_dtc2 = dtc_cv.predict(X_test_tfidf)\n",
    "\n",
    "# evaluate model\n",
    "print(\"Hyperparameters:\", dtc_cv.best_params_)\n",
    "print(\"Train Score:\", round(dtc_cv.best_score_, 4))\n",
    "print(\"Test Score:\", round(dtc_cv.score(X_test_tfidf, y_test), 4))"
   ]
  },
  {
   "cell_type": "markdown",
   "metadata": {
    "id": "M52Ys3hcq7ku"
   },
   "source": [
    "#### 4.5. Random Forest Classifier (without data cleaning)\n",
    "\n",
    "Try a Random Forest Classifier, using a Tfidf vectoriser. Show the accuracy, precision, recall and F1 score on the test set."
   ]
  },
  {
   "cell_type": "code",
   "execution_count": 114,
   "metadata": {
    "id": "sssF4NIGrNLa"
   },
   "outputs": [
    {
     "name": "stdout",
     "output_type": "stream",
     "text": [
      "CONFUSION MATRIX:\n",
      "[[119  23   9   7   3   0]\n",
      " [ 81  53  23   6   1   0]\n",
      " [ 35  36  54  22   5   8]\n",
      " [ 19   8  20  67  15  15]\n",
      " [ 18  10  22  50  45  28]\n",
      " [ 19  12  12  29  21  65]]\n",
      "ACCURACY SCORE:\n",
      "0.4198\n",
      "CLASSIFICATION REPORT:\n",
      "\tPrecision: 0.4227\n",
      "\tRecall: 0.3678\n",
      "\tF1_Score: 0.3575\n"
     ]
    }
   ],
   "source": [
    "from sklearn.ensemble import RandomForestClassifier\n",
    "\n",
    "# create random forest classifier object\n",
    "rfc = RandomForestClassifier()\n",
    "\n",
    "# train model\n",
    "rfc.fit(X_train_tfidf, y_train)\n",
    "\n",
    "# make predictions\n",
    "y_pred_rfc = rfc.predict(X_test_tfidf)\n",
    "\n",
    "# evaluate model\n",
    "evaluate(y_test, y_pred_rfc)\n"
   ]
  },
  {
   "cell_type": "markdown",
   "metadata": {
    "id": "z-8_3MK1rpZr"
   },
   "source": [
    "#### 4.6. Any other technique, including data cleaning if necessary\n",
    "\n",
    "Try to improve accuracy by training a better model using the techniques seen in class, or combinations of them.\n",
    "\n",
    "As usual, show the accuracy, precision, recall and f1 score on the test set."
   ]
  },
  {
   "cell_type": "code",
   "execution_count": 1,
   "metadata": {
    "id": "wX5AjvvKr_nW"
   },
   "outputs": [
    {
     "ename": "NameError",
     "evalue": "name 'pd' is not defined",
     "output_type": "error",
     "traceback": [
      "\u001B[1;31m---------------------------------------------------------------------------\u001B[0m",
      "\u001B[1;31mNameError\u001B[0m                                 Traceback (most recent call last)",
      "Cell \u001B[1;32mIn [1], line 1\u001B[0m\n\u001B[1;32m----> 1\u001B[0m unlabelled_test_data \u001B[38;5;241m=\u001B[39m pd\u001B[38;5;241m.\u001B[39mread_csv(\u001B[38;5;124m\"\u001B[39m\u001B[38;5;124m../data/unlabelled_test_data.csv\u001B[39m\u001B[38;5;124m\"\u001B[39m)\n\u001B[0;32m      3\u001B[0m \u001B[38;5;66;03m# predict on unlabelled data with logistic regression model\u001B[39;00m\n\u001B[0;32m      4\u001B[0m unlabelled_test_data_tfidf \u001B[38;5;241m=\u001B[39m tfidf\u001B[38;5;241m.\u001B[39mtransform(unlabelled_test_data[\u001B[38;5;124m\"\u001B[39m\u001B[38;5;124msentence\u001B[39m\u001B[38;5;124m\"\u001B[39m])\n",
      "\u001B[1;31mNameError\u001B[0m: name 'pd' is not defined"
     ]
    }
   ],
   "source": [
    "unlabelled_test_data = pd.read_csv(\"../data/unlabelled_test_data.csv\")\n",
    "\n",
    "# predict on unlabelled data with logistic regression model\n",
    "unlabelled_test_data_tfidf = tfidf.transform(unlabelled_test_data[\"sentence\"])\n",
    "\n",
    "# import VotingClassifier\n",
    "from sklearn.ensemble import VotingClassifier\n",
    "\n",
    "# create a dictionary of our models\n",
    "estimators=[ ('logrcv', LogRcv), ('logr', LogR)]\n",
    "\n",
    "# create our voting classifier, inputting our models\n",
    "ensemble = VotingClassifier(estimators, voting='hard')\n",
    "\n",
    "# train model\n",
    "ensemble.fit(X_train_tfidf, y_train)\n",
    "\n",
    "# make prediction on unlabelled data\n",
    "y_pred_ensemble = ensemble.predict(X_train_tfidf)\n",
    "\n",
    "# add predictions to unlabelled data\n",
    "#unlabelled_test_data[\"difficulty\"] = y_pred_ensemble\n",
    "\n",
    "#evaluate\n",
    "print(f\"ACCURACY SCORE:\\n{accuracy_score(y_test, y_pred_ensemble):.4f}\")\n",
    "\n",
    "\n",
    "# reverse label encode with inverse_transform\n",
    "\n",
    "#unlabelled_test_data[\"difficulty\"] = labelencoder.inverse_transform(y_pred_ensemble)\n",
    "\n",
    "# drop sentence column\n",
    "#unlabelled_test_data.drop(columns=[\"sentence\"], inplace=True)\n",
    "# save to csv\n",
    "#unlabelled_test_data.to_csv(\"../data/submit3.csv\", index=False)\n"
   ]
  },
  {
   "cell_type": "markdown",
   "source": [],
   "metadata": {
    "collapsed": false
   }
  },
  {
   "cell_type": "markdown",
   "metadata": {
    "id": "82FvnJycsBFf"
   },
   "source": [
    "#### 4.7. Show a summary of your results"
   ]
  }
 ],
 "metadata": {
  "colab": {
   "provenance": []
  },
  "kernelspec": {
   "display_name": "Python 3 (ipykernel)",
   "language": "python",
   "name": "python3"
  },
  "language_info": {
   "codemirror_mode": {
    "name": "ipython",
    "version": 3
   },
   "file_extension": ".py",
   "mimetype": "text/x-python",
   "name": "python",
   "nbconvert_exporter": "python",
   "pygments_lexer": "ipython3",
   "version": "3.8.12"
  },
  "toc": {
   "base_numbering": 1,
   "nav_menu": {},
   "number_sections": true,
   "sideBar": true,
   "skip_h1_title": false,
   "title_cell": "Table of Contents",
   "title_sidebar": "Contents",
   "toc_cell": false,
   "toc_position": {},
   "toc_section_display": true,
   "toc_window_display": false
  }
 },
 "nbformat": 4,
 "nbformat_minor": 0
}
