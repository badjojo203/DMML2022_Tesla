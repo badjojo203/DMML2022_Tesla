{
 "cells": [
  {
   "cell_type": "markdown",
   "metadata": {
    "id": "8ZKqCFFbNZ04"
   },
   "source": [
    "# Data Mining and Machine Learning - Project\n",
    "\n",
    "## Detecting Difficulty Level of French Texts\n",
    "\n",
    "### Step by step guidelines\n",
    "\n",
    "The following are a set of step by step guidelines to help you get started with your project for the Data Mining and Machine Learning class. \n",
    "To test what you learned in the class, we will hold a competition. You will create a classifier that predicts how the level of some text in French (A1,..., C2). The team with the highest rank will get some goodies in the last class (some souvenirs from tech companies: Amazon, LinkedIn, etc).\n",
    "\n",
    "**2 people per team**\n",
    "\n",
    "Choose a team here:\n",
    "https://moodle.unil.ch/mod/choicegroup/view.php?id=1305831\n",
    "\n",
    "\n",
    "#### 1. 📂 Create a public GitHub repository for your team using this naming convention `DMML2022_[your_team_name]` with the following structure:\n",
    "- data (folder) \n",
    "- code (folder) \n",
    "- documentation (folder)\n",
    "- a readme file (.md): *mention team name, participants, brief description of the project, approach, summary of results table and link to the explainatory video (see below).*\n",
    "\n",
    "All team members should contribute to the GitHub repository.\n",
    "\n",
    "#### 2. 🇰 Join the competititon on Kaggle using the invitation link we sent on Slack.\n",
    "\n",
    "Under the Team tab, save your team name (`UNIL_your_team_name`) and make sure your team members join in as well. You can merge your user account with your teammates in order to create a team.\n",
    "\n",
    "#### 3. 📓 Read the data into your colab notebook. There should be one code notebook per team, but all team members can participate and contribute code. \n",
    "\n",
    "You can use either direct the Kaggle API and your Kaggle credentials (as explained below and **entirely optional**), or dowload the data form Kaggle and upload it onto your team's GitHub repository under the data subfolder.\n",
    "\n",
    "#### 4. 💎 Train your models and upload the code under your team's GitHub repo. Set the `random_state=0`.\n",
    "- baseline\n",
    "- logistic regression with TFidf vectoriser (simple, no data cleaning)\n",
    "- KNN & hyperparameter optimisation (simple, no data cleaning)\n",
    "- Decision Tree classifier & hyperparameter optimisation (simple, no data cleaning)\n",
    "- Random Forests classifier (simple, no data cleaning)\n",
    "- another technique or combination of techniques of your choice\n",
    "\n",
    "BE CREATIVE! You can use whatever method you want, in order to climb the leaderboard. The only rule is that it must be your own work. Given that, you can use all the online resources you want. \n",
    "\n",
    "#### 5. 🎥 Create a YouTube video (5-10 minutes) of your solution and embed it in your notebook. Explain the algorithms used and the evaluation of your solutions. *Select* projects will also be presented live by the group during the last class.\n",
    "\n",
    "\n",
    "### Submission details (one per team)\n",
    "\n",
    "1. Download a ZIPped file of your team's repository and submit it in Moodle here. IMPORTANT: in the comment of the submission, insert a link to the repository on Github.\n",
    "https://moodle.unil.ch/mod/assign/view.php?id=1305833\n",
    "\n",
    "\n",
    "\n",
    "### Grading (one per team)\n",
    "- 20% Kaggle Rank\n",
    "- 50% code quality (using classes, splitting into proper files, documentation, etc)\n",
    "- 15% github quality (include link to video, table with progress over time, organization of code, images, etc)\n",
    "- 15% video quality (good sound, good slides, interesting presentation)."
   ]
  },
  {
   "cell_type": "markdown",
   "metadata": {
    "id": "9-14CAdOoinM"
   },
   "source": [
    "## Some further details for points 3 and 4 above.\n",
    "\n",
    "### 3. Read data into your notebook with the Kaggle API (optional but useful). \n",
    "\n",
    "You can also download the data from Kaggle and put it in your team's repo the data folder."
   ]
  },
  {
   "cell_type": "code",
   "execution_count": 49,
   "metadata": {
    "colab": {
     "base_uri": "https://localhost:8080/"
    },
    "id": "UJ_hnJzSNO2g",
    "outputId": "2657bdeb-ca0f-4679-cd1d-0f337fccf074"
   },
   "outputs": [],
   "source": [
    "# reading in the data via the Kaggle API\n",
    "\n",
    "# mount your Google Drive\n",
    "#from google.colab import drive\n",
    "#drive.mount('/content/drive', force_remount=True)"
   ]
  },
  {
   "cell_type": "code",
   "execution_count": 50,
   "metadata": {
    "colab": {
     "base_uri": "https://localhost:8080/"
    },
    "id": "mJPTz3D7TeQv",
    "outputId": "e53838f1-7de2-45ff-933a-7a9420c60799"
   },
   "outputs": [],
   "source": [
    "# install Kaggle\n",
    "#! pip install kaggle"
   ]
  },
  {
   "cell_type": "markdown",
   "metadata": {
    "id": "ZKG1TCddRYTB"
   },
   "source": [
    "### IMPORTANT\n",
    "Log into your Kaggle account, go to Account > API > Create new API token. You will obtain a kaggle.json file. Save it in your Google Drive (not in a folder, in your general drive)."
   ]
  },
  {
   "cell_type": "code",
   "execution_count": 51,
   "metadata": {
    "colab": {
     "base_uri": "https://localhost:8080/"
    },
    "id": "JgzLj451YDfV",
    "outputId": "85a09b6e-e3e2-470d-cd90-6fdbd0bdd24f"
   },
   "outputs": [],
   "source": [
    "#!mkdir ~/.kaggle"
   ]
  },
  {
   "cell_type": "code",
   "execution_count": 52,
   "metadata": {
    "id": "KrsZLalrSI3u"
   },
   "outputs": [],
   "source": [
    "#read in your Kaggle credentials from Google Drive\n",
    "#!cp /content/drive/MyDrive/kaggle.json ~/.kaggle/kaggle.json\n"
   ]
  },
  {
   "cell_type": "code",
   "execution_count": 53,
   "metadata": {
    "id": "1hfgvwNaqLLM"
   },
   "outputs": [],
   "source": [
    "#!mkdir data\n"
   ]
  },
  {
   "cell_type": "code",
   "execution_count": 54,
   "metadata": {
    "colab": {
     "base_uri": "https://localhost:8080/"
    },
    "id": "BDI60LXKTPzf",
    "outputId": "34a95d65-6d0a-4354-ee6b-5a31a39399f7"
   },
   "outputs": [],
   "source": [
    "# download the dataset from the competition page\n",
    "#! kaggle competitions download -c detecting-french-texts-difficulty-level-2022"
   ]
  },
  {
   "cell_type": "code",
   "execution_count": 55,
   "metadata": {
    "id": "L7fA34PWqLLN"
   },
   "outputs": [],
   "source": [
    "#!unzip \"detecting-french-texts-difficulty-level-2022.zip\" -d data"
   ]
  },
  {
   "cell_type": "code",
   "execution_count": 56,
   "metadata": {
    "id": "daqvj7feTx60"
   },
   "outputs": [],
   "source": [
    "# read in your training data\n",
    "import pandas as pd\n",
    "import numpy as np\n",
    "\n",
    "\n",
    "df = pd.read_csv('../data/training_data.csv')"
   ]
  },
  {
   "cell_type": "code",
   "execution_count": 57,
   "metadata": {
    "colab": {
     "base_uri": "https://localhost:8080/",
     "height": 206
    },
    "id": "VxRSnk5bhTp8",
    "outputId": "80616e55-545c-4b80-fd32-99de0b0e4124"
   },
   "outputs": [
    {
     "data": {
      "text/plain": "   id                                           sentence difficulty\n0   0  Les coûts kilométriques réels peuvent diverger...         C1\n1   1  Le bleu, c'est ma couleur préférée mais je n'a...         A1\n2   2  Le test de niveau en français est sur le site ...         A1\n3   3           Est-ce que ton mari est aussi de Boston?         A1\n4   4  Dans les écoles de commerce, dans les couloirs...         B1",
      "text/html": "<div>\n<style scoped>\n    .dataframe tbody tr th:only-of-type {\n        vertical-align: middle;\n    }\n\n    .dataframe tbody tr th {\n        vertical-align: top;\n    }\n\n    .dataframe thead th {\n        text-align: right;\n    }\n</style>\n<table border=\"1\" class=\"dataframe\">\n  <thead>\n    <tr style=\"text-align: right;\">\n      <th></th>\n      <th>id</th>\n      <th>sentence</th>\n      <th>difficulty</th>\n    </tr>\n  </thead>\n  <tbody>\n    <tr>\n      <th>0</th>\n      <td>0</td>\n      <td>Les coûts kilométriques réels peuvent diverger...</td>\n      <td>C1</td>\n    </tr>\n    <tr>\n      <th>1</th>\n      <td>1</td>\n      <td>Le bleu, c'est ma couleur préférée mais je n'a...</td>\n      <td>A1</td>\n    </tr>\n    <tr>\n      <th>2</th>\n      <td>2</td>\n      <td>Le test de niveau en français est sur le site ...</td>\n      <td>A1</td>\n    </tr>\n    <tr>\n      <th>3</th>\n      <td>3</td>\n      <td>Est-ce que ton mari est aussi de Boston?</td>\n      <td>A1</td>\n    </tr>\n    <tr>\n      <th>4</th>\n      <td>4</td>\n      <td>Dans les écoles de commerce, dans les couloirs...</td>\n      <td>B1</td>\n    </tr>\n  </tbody>\n</table>\n</div>"
     },
     "execution_count": 57,
     "metadata": {},
     "output_type": "execute_result"
    }
   ],
   "source": [
    "df.head()"
   ]
  },
  {
   "cell_type": "markdown",
   "metadata": {
    "id": "1kpfbtndj0jL"
   },
   "source": [
    "Have a look at the data on which to make predictions."
   ]
  },
  {
   "cell_type": "code",
   "execution_count": 58,
   "metadata": {
    "colab": {
     "base_uri": "https://localhost:8080/",
     "height": 206
    },
    "id": "7G75Q1gRj49l",
    "outputId": "0fdf7e2a-db10-4cf8-9416-f36f6851a1d2"
   },
   "outputs": [
    {
     "data": {
      "text/plain": "   id                                           sentence\n0   0  Nous dûmes nous excuser des propos que nous eû...\n1   1  Vous ne pouvez pas savoir le plaisir que j'ai ...\n2   2  Et, paradoxalement, boire froid n'est pas la b...\n3   3  Ce n'est pas étonnant, car c'est une saison my...\n4   4  Le corps de Golo lui-même, d'une essence aussi...",
      "text/html": "<div>\n<style scoped>\n    .dataframe tbody tr th:only-of-type {\n        vertical-align: middle;\n    }\n\n    .dataframe tbody tr th {\n        vertical-align: top;\n    }\n\n    .dataframe thead th {\n        text-align: right;\n    }\n</style>\n<table border=\"1\" class=\"dataframe\">\n  <thead>\n    <tr style=\"text-align: right;\">\n      <th></th>\n      <th>id</th>\n      <th>sentence</th>\n    </tr>\n  </thead>\n  <tbody>\n    <tr>\n      <th>0</th>\n      <td>0</td>\n      <td>Nous dûmes nous excuser des propos que nous eû...</td>\n    </tr>\n    <tr>\n      <th>1</th>\n      <td>1</td>\n      <td>Vous ne pouvez pas savoir le plaisir que j'ai ...</td>\n    </tr>\n    <tr>\n      <th>2</th>\n      <td>2</td>\n      <td>Et, paradoxalement, boire froid n'est pas la b...</td>\n    </tr>\n    <tr>\n      <th>3</th>\n      <td>3</td>\n      <td>Ce n'est pas étonnant, car c'est une saison my...</td>\n    </tr>\n    <tr>\n      <th>4</th>\n      <td>4</td>\n      <td>Le corps de Golo lui-même, d'une essence aussi...</td>\n    </tr>\n  </tbody>\n</table>\n</div>"
     },
     "execution_count": 58,
     "metadata": {},
     "output_type": "execute_result"
    }
   ],
   "source": [
    "df_pred = pd.read_csv('../data/unlabelled_test_data.csv')\n",
    "df_pred.head()"
   ]
  },
  {
   "cell_type": "markdown",
   "metadata": {
    "id": "a37hWJ_ckBlk"
   },
   "source": [
    "And this is the format for your submissions."
   ]
  },
  {
   "cell_type": "code",
   "execution_count": 59,
   "metadata": {
    "colab": {
     "base_uri": "https://localhost:8080/",
     "height": 206
    },
    "id": "gk9H2dLHkFBa",
    "outputId": "e823ec1a-db03-4b6b-ca0c-7f89a93f02a8"
   },
   "outputs": [],
   "source": [
    "#df_example_submission = pd.read_csv('/content/data/sample_submission.csv')\n",
    "#df_example_submission.head()"
   ]
  },
  {
   "cell_type": "markdown",
   "metadata": {
    "id": "FfTgL1erjqQ6"
   },
   "source": [
    "### 4. Train your models\n",
    "\n",
    "Set your X and y variables. \n",
    "Set the `random_state=0`\n",
    "Split the data into a train and test set using the following parameters `train_test_split(X, y, test_size=0.2, random_state=0)`.\n",
    "\n",
    "#### 4.1.Baseline\n",
    "What is the baseline for this classification problem?"
   ]
  },
  {
   "cell_type": "code",
   "execution_count": 60,
   "metadata": {
    "id": "t4O_pYiHpiRd"
   },
   "outputs": [],
   "source": [
    "np.random.seed = 0"
   ]
  },
  {
   "cell_type": "code",
   "execution_count": 61,
   "metadata": {
    "id": "WDdFr4xsk5Qf"
   },
   "outputs": [],
   "source": [
    "from sklearn.model_selection import train_test_split\n",
    "from sklearn.preprocessing import LabelEncoder\n",
    "from sklearn.metrics import confusion_matrix, accuracy_score, precision_score, recall_score, f1_score\n",
    "labelencoder = LabelEncoder()\n",
    "df['le_difficulty'] = labelencoder.fit_transform(df['difficulty'])\n",
    "df.head(5)\n",
    "\n",
    "from sklearn.preprocessing import OneHotEncoder\n",
    "df = pd.get_dummies(df, columns=[\"difficulty\"])\n",
    "df.head(5)\n",
    "\n",
    "X = df[[\"id\", \"sentence\"]]\n",
    "y = df[\"le_difficulty\"]\n",
    "\n",
    "X_train, X_test, y_train, y_test = train_test_split(X, y, test_size=0.2, random_state=0)"
   ]
  },
  {
   "cell_type": "markdown",
   "metadata": {
    "id": "SlvbPYa0k78l"
   },
   "source": [
    "#### 4.2. Logistic Regression (without data cleaning)\n",
    "\n",
    "Train a simple logistic regression model using a Tfidf vectoriser."
   ]
  },
  {
   "cell_type": "code",
   "execution_count": 62,
   "metadata": {
    "id": "eEe3-QNlow4H"
   },
   "outputs": [],
   "source": [
    "from sklearn.linear_model import LogisticRegression\n",
    "from sklearn.feature_extraction.text import TfidfVectorizer\n",
    "tfidf = TfidfVectorizer()\n",
    "X_train_tfidf = tfidf.fit_transform(X_train[\"sentence\"])\n",
    "X_test_tfidf = tfidf.transform((X_test[\"sentence\"]))\n"
   ]
  },
  {
   "cell_type": "markdown",
   "metadata": {
    "id": "bZ-qO8C5oyov"
   },
   "source": [
    "Calculate accuracy, precision, recall and F1 score on the test set."
   ]
  },
  {
   "cell_type": "code",
   "execution_count": 63,
   "metadata": {
    "id": "PViIQdnDpASy"
   },
   "outputs": [
    {
     "name": "stdout",
     "output_type": "stream",
     "text": [
      "CONFUSION MATRIX:\n",
      "[[93 31 21 10  4  2]\n",
      " [54 60 30  6  6  8]\n",
      " [12 38 64 17  9 20]\n",
      " [ 6  6 15 66 27 24]\n",
      " [ 4  4 10 37 73 45]\n",
      " [ 7  8  8 19 24 92]]\n",
      "ACCURACY SCORE:\n",
      "0.4667\n",
      "CLASSIFICATION REPORT:\n",
      "\tPrecision: 0.4645\n",
      "\tRecall: 0.4677\n",
      "\tF1_Score: 0.4640\n"
     ]
    }
   ],
   "source": [
    "LRcv = LogisticRegression(solver='lbfgs', max_iter=1000, random_state=50).fit(X_train_tfidf, y_train)\n",
    "y_pred = LRcv.predict(X_test_tfidf)\n",
    "\n",
    "def evaluate(true, pred):\n",
    "    precision = precision_score(y_test, y_pred, average=\"macro\")\n",
    "    recall = recall_score(y_test, y_pred, average=\"macro\")\n",
    "    f1 = f1_score(y_test, y_pred, average=\"macro\")\n",
    "    print(f\"CONFUSION MATRIX:\\n{confusion_matrix(true, pred)}\")\n",
    "    print(f\"ACCURACY SCORE:\\n{accuracy_score(true, pred):.4f}\")\n",
    "    print(f\"CLASSIFICATION REPORT:\\n\\tPrecision: {precision:.4f}\\n\\tRecall: {recall:.4f}\\n\\tF1_Score: {f1:.4f}\")\n",
    "\n",
    "evaluate(y_test, y_pred)"
   ]
  },
  {
   "cell_type": "markdown",
   "metadata": {
    "id": "9D3_dp3apcmr"
   },
   "source": [
    "Have a look at the confusion matrix and identify a few examples of sentences that are not well classified."
   ]
  },
  {
   "cell_type": "code",
   "execution_count": 64,
   "metadata": {
    "id": "ZSyKq3h_qZmX"
   },
   "outputs": [
    {
     "name": "stdout",
     "output_type": "stream",
     "text": [
      "0.4667\n"
     ]
    },
    {
     "data": {
      "text/plain": "<Figure size 1000x1000 with 2 Axes>",
      "image/png": "[encoded data removed]"
     },
     "metadata": {},
     "output_type": "display_data"
    }
   ],
   "source": [
    "import seaborn as sns\n",
    "import matplotlib.pyplot as plt\n",
    "\n",
    "def accuracy_conf_mat(y_test, y_pred):\n",
    "    print(round(accuracy_score(y_test, y_pred), 4))\n",
    "    conf_mat = confusion_matrix(y_test, y_pred)\n",
    "    fig, ax = plt.subplots(figsize=(10,10))\n",
    "    sns.heatmap(conf_mat, annot=True, fmt='d')\n",
    "    plt.ylabel('Actual')\n",
    "    plt.xlabel('Predicted')\n",
    "    plt.show()\n",
    "\n",
    "accuracy_conf_mat(y_test, y_pred)"
   ]
  },
  {
   "cell_type": "markdown",
   "metadata": {
    "id": "9TTEiuXasNFg"
   },
   "source": [
    "Generate your first predictions on the `unlabelled_test_data.csv`. make sure your predictions match the format of the `unlabelled_test_data.csv`."
   ]
  },
  {
   "cell_type": "code",
   "execution_count": 65,
   "outputs": [],
   "source": [
    "# X_train, X_test, y_train, y_test = train_test_split(X, y, test_size=0.2, random_state=0)\n",
    "# x_pred_unlabelled = df_pred[[\"id\", \"sentence\"]]\n",
    "# x_pred_unlabelled_tfidf = tfidf.transform(x_pred_unlabelled[\"sentence\"])\n",
    "# y_pred_unlabelled = LRcv.predict(x_pred_unlabelled_tfidf)\n",
    "#\n",
    "# evaluate(y_test, y_pred_unlabelled)"
   ],
   "metadata": {
    "collapsed": false
   }
  },
  {
   "cell_type": "markdown",
   "metadata": {
    "id": "vXG_yIG_pQ8t"
   },
   "source": [
    "#### 4.3. KNN (without data cleaning)\n",
    "\n",
    "Train a KNN classification model using a Tfidf vectoriser. Show the accuracy, precision, recall and F1 score on the test set."
   ]
  },
  {
   "cell_type": "code",
   "execution_count": 66,
   "metadata": {
    "id": "GPRjD1rSqKKZ"
   },
   "outputs": [
    {
     "name": "stdout",
     "output_type": "stream",
     "text": [
      "CONFUSION MATRIX:\n",
      "[[123  25  10   1   1   1]\n",
      " [101  48  10   3   1   1]\n",
      " [ 89  39  26   4   0   2]\n",
      " [ 58  29  16  33   1   7]\n",
      " [ 64  37  23  19  20  10]\n",
      " [ 49  33  15  16   5  40]]\n",
      "ACCURACY SCORE:\n",
      "0.3021\n",
      "CLASSIFICATION REPORT:\n",
      "\tPrecision: 0.4243\n",
      "\tRecall: 0.3028\n",
      "\tF1_Score: 0.2836\n"
     ]
    }
   ],
   "source": [
    "from sklearn.neighbors import KNeighborsClassifier\n",
    "knn = KNeighborsClassifier(n_neighbors=3)\n",
    "knn.fit(X_train_tfidf, y_train)\n",
    "\n",
    "y_pred = knn.predict(X_test_tfidf)\n",
    "\n",
    "evaluate(y_test,y_pred)"
   ]
  },
  {
   "cell_type": "markdown",
   "metadata": {
    "id": "D6rH2Hx0qtB2"
   },
   "source": [
    "Try to improve it by tuning the hyper parameters (`n_neighbors`,   `p`, `weights`)."
   ]
  },
  {
   "cell_type": "code",
   "execution_count": 67,
   "metadata": {
    "id": "wRy18Ce_qxPc"
   },
   "outputs": [
    {
     "name": "stdout",
     "output_type": "stream",
     "text": [
      "Fitting 5 folds for each of 36 candidates, totalling 180 fits\n",
      "Hyperparameters: {'n_neighbors': 4, 'p': 2, 'weights': 'distance'}\n",
      "Train Score: 0.3513\n",
      "Test Score: 0.3677\n",
      "CONFUSION MATRIX:\n",
      "[[116  27  14   1   1   2]\n",
      " [ 79  64  15   4   1   1]\n",
      " [ 65  38  44   8   2   3]\n",
      " [ 37  25  23  40   2  17]\n",
      " [ 37  30  23  26  36  21]\n",
      " [ 34  22  19  13  17  53]]\n",
      "ACCURACY SCORE:\n",
      "0.3677\n",
      "CLASSIFICATION REPORT:\n",
      "\tPrecision: 0.4227\n",
      "\tRecall: 0.3678\n",
      "\tF1_Score: 0.3575\n"
     ]
    }
   ],
   "source": [
    "from sklearn.model_selection import GridSearchCV\n",
    "\n",
    "# Define parameters to test\n",
    "grid = {'n_neighbors':np.arange(1,10),\n",
    "        'p':np.arange(1,3),\n",
    "        'weights':['uniform','distance']\n",
    "        }\n",
    "\n",
    "knn2 = KNeighborsClassifier()\n",
    "knn_cv = GridSearchCV(knn2, grid, cv=5, scoring='accuracy', return_train_score=False, verbose=1)\n",
    "knn_cv.fit(X_train_tfidf, y_train)\n",
    "y_pred = knn_cv.predict(X_test_tfidf)\n",
    "print(\"Hyperparameters:\", knn_cv.best_params_)\n",
    "print(\"Train Score:\", round(knn_cv.best_score_, 4))\n",
    "print(\"Test Score:\", round(knn_cv.score(X_test_tfidf, y_test), 4))\n",
    "evaluate(y_test, y_pred)"
   ]
  },
  {
   "cell_type": "markdown",
   "metadata": {
    "id": "FFNH1WgNqc62"
   },
   "source": [
    "#### 4.4. Decision Tree Classifier (without data cleaning)\n",
    "\n",
    "Train a Decison Tree classifier, using a Tfidf vectoriser. Show the accuracy, precision, recall and F1 score on the test set."
   ]
  },
  {
   "cell_type": "code",
   "execution_count": 68,
   "metadata": {
    "id": "d4PByPdGq0FV"
   },
   "outputs": [
    {
     "name": "stdout",
     "output_type": "stream",
     "text": [
      "CONFUSION MATRIX:\n",
      "[[82 31 33  9  2  4]\n",
      " [55 45 35 19  3  7]\n",
      " [25 39 38 23 15 20]\n",
      " [ 9 20 29 41 23 22]\n",
      " [10 17 37 32 43 34]\n",
      " [12 12 30 29 34 41]]\n",
      "ACCURACY SCORE:\n",
      "0.3021\n",
      "CLASSIFICATION REPORT:\n",
      "\tPrecision: 0.3057\n",
      "\tRecall: 0.3023\n",
      "\tF1_Score: 0.3007\n"
     ]
    }
   ],
   "source": [
    "from sklearn.tree import DecisionTreeClassifier\n",
    "# create the model\n",
    "dtc = DecisionTreeClassifier()\n",
    "\n",
    "# fit the model\n",
    "dtc.fit(X_train_tfidf, y_train)\n",
    "\n",
    "# predict\n",
    "y_pred = dtc.predict(X_test_tfidf)\n",
    "\n",
    "evaluate(y_test, y_pred)"
   ]
  },
  {
   "cell_type": "markdown",
   "metadata": {
    "id": "yQHjvOp7q11L"
   },
   "source": [
    "Try to improve it by tuning the hyper parameters (`max_depth`, the depth of the decision tree)."
   ]
  },
  {
   "cell_type": "code",
   "execution_count": 69,
   "metadata": {
    "id": "x1Fzl5BUq8JN"
   },
   "outputs": [
    {
     "name": "stdout",
     "output_type": "stream",
     "text": [
      "{'max_depth': 22}\n",
      "0.32682291666666663\n",
      "DecisionTreeClassifier(max_depth=22)\n",
      "21\n"
     ]
    }
   ],
   "source": [
    "# create a new DecisionTreeClassifier model\n",
    "dtc2 = DecisionTreeClassifier()\n",
    "\n",
    "\n",
    "# create a dictionary of all values we want to test for max_depth\n",
    "param_grid = {'max_depth': np.arange(1, 25)}\n",
    "\n",
    "# use gridsearch to test all values for n_neighbors\n",
    "dtc_gscv = GridSearchCV(dtc2, param_grid, cv=5)\n",
    "\n",
    "# fit model to data\n",
    "dtc_gscv.fit(X_train_tfidf, y_train)\n",
    "\n",
    "# print top performing n_neighbors value\n",
    "print(dtc_gscv.best_params_)\n",
    "print(dtc_gscv.best_score_)\n",
    "print(dtc_gscv.best_estimator_)\n",
    "print(dtc_gscv.best_index_)"
   ]
  },
  {
   "cell_type": "markdown",
   "metadata": {
    "id": "M52Ys3hcq7ku"
   },
   "source": [
    "#### 4.5. Random Forest Classifier (without data cleaning)\n",
    "\n",
    "Try a Random Forest Classifier, using a Tfidf vectoriser. Show the accuracy, precision, recall and F1 score on the test set."
   ]
  },
  {
   "cell_type": "code",
   "execution_count": 70,
   "metadata": {
    "id": "sssF4NIGrNLa"
   },
   "outputs": [
    {
     "name": "stdout",
     "output_type": "stream",
     "text": [
      "CONFUSION MATRIX:\n",
      "[[117  25  13   5   0   1]\n",
      " [ 76  54  25   7   1   1]\n",
      " [ 39  39  45  25   6   6]\n",
      " [ 18  12  13  70  16  15]\n",
      " [ 19  11  20  60  38  25]\n",
      " [ 17  11  11  31  24  64]]\n",
      "ACCURACY SCORE:\n",
      "0.4042\n",
      "CLASSIFICATION REPORT:\n",
      "\tPrecision: 0.4151\n",
      "\tRecall: 0.4080\n",
      "\tF1_Score: 0.3928\n"
     ]
    }
   ],
   "source": [
    "# import RandomForestClassifier\n",
    "from sklearn.ensemble import RandomForestClassifier\n",
    "\n",
    "# create the model\n",
    "rfc = RandomForestClassifier()\n",
    "\n",
    "# fit the model\n",
    "rfc.fit(X_train_tfidf, y_train)\n",
    "\n",
    "# predict\n",
    "y_pred = rfc.predict(X_test_tfidf)\n",
    "\n",
    "# evaluate\n",
    "evaluate(y_test, y_pred)"
   ]
  },
  {
   "cell_type": "markdown",
   "metadata": {
    "id": "z-8_3MK1rpZr"
   },
   "source": [
    "#### 4.6. Any other technique, including data cleaning if necessary\n",
    "\n",
    "Try to improve accuracy by training a better model using the techniques seen in class, or combinations of them.\n",
    "\n",
    "As usual, show the accuracy, precision, recall and f1 score on the test set."
   ]
  },
  {
   "cell_type": "code",
   "execution_count": 90,
   "metadata": {
    "id": "wX5AjvvKr_nW"
   },
   "outputs": [
    {
     "name": "stdout",
     "output_type": "stream",
     "text": [
      "(4800, 3)\n"
     ]
    },
    {
     "data": {
      "text/plain": "   id                                           sentence difficulty\n0   0  Les coûts kilométriques réels peuvent diverger...         C1\n1   1  Le bleu, c'est ma couleur préférée mais je n'a...         A1\n2   2  Le test de niveau en français est sur le site ...         A1\n3   3           Est-ce que ton mari est aussi de Boston?         A1\n4   4  Dans les écoles de commerce, dans les couloirs...         B1\n5   5  voilà une autre histoire que j'ai beaucoup aimée.         A2\n6   6  Les médecins disent souvent qu'on doit boire u...         A2\n7   7  Il est particulièrement observé chez les perso...         B2\n8   8  J'ai retrouvé le plaisir de manger un oeuf à l...         A2\n9   9  Nous allons bien, nous habitons dans une petit...         B1",
      "text/html": "<div>\n<style scoped>\n    .dataframe tbody tr th:only-of-type {\n        vertical-align: middle;\n    }\n\n    .dataframe tbody tr th {\n        vertical-align: top;\n    }\n\n    .dataframe thead th {\n        text-align: right;\n    }\n</style>\n<table border=\"1\" class=\"dataframe\">\n  <thead>\n    <tr style=\"text-align: right;\">\n      <th></th>\n      <th>id</th>\n      <th>sentence</th>\n      <th>difficulty</th>\n    </tr>\n  </thead>\n  <tbody>\n    <tr>\n      <th>0</th>\n      <td>0</td>\n      <td>Les coûts kilométriques réels peuvent diverger...</td>\n      <td>C1</td>\n    </tr>\n    <tr>\n      <th>1</th>\n      <td>1</td>\n      <td>Le bleu, c'est ma couleur préférée mais je n'a...</td>\n      <td>A1</td>\n    </tr>\n    <tr>\n      <th>2</th>\n      <td>2</td>\n      <td>Le test de niveau en français est sur le site ...</td>\n      <td>A1</td>\n    </tr>\n    <tr>\n      <th>3</th>\n      <td>3</td>\n      <td>Est-ce que ton mari est aussi de Boston?</td>\n      <td>A1</td>\n    </tr>\n    <tr>\n      <th>4</th>\n      <td>4</td>\n      <td>Dans les écoles de commerce, dans les couloirs...</td>\n      <td>B1</td>\n    </tr>\n    <tr>\n      <th>5</th>\n      <td>5</td>\n      <td>voilà une autre histoire que j'ai beaucoup aimée.</td>\n      <td>A2</td>\n    </tr>\n    <tr>\n      <th>6</th>\n      <td>6</td>\n      <td>Les médecins disent souvent qu'on doit boire u...</td>\n      <td>A2</td>\n    </tr>\n    <tr>\n      <th>7</th>\n      <td>7</td>\n      <td>Il est particulièrement observé chez les perso...</td>\n      <td>B2</td>\n    </tr>\n    <tr>\n      <th>8</th>\n      <td>8</td>\n      <td>J'ai retrouvé le plaisir de manger un oeuf à l...</td>\n      <td>A2</td>\n    </tr>\n    <tr>\n      <th>9</th>\n      <td>9</td>\n      <td>Nous allons bien, nous habitons dans une petit...</td>\n      <td>B1</td>\n    </tr>\n  </tbody>\n</table>\n</div>"
     },
     "execution_count": 90,
     "metadata": {},
     "output_type": "execute_result"
    }
   ],
   "source": [
    "from sklearn.linear_model import LogisticRegressionCV\n",
    "import stopwords\n",
    "df = pd.read_csv('../data/training_data.csv')\n",
    "\n",
    "print(df.shape)\n",
    "# clean the data\n",
    "\n",
    "# remove null values\n",
    "#df = df.dropna()\n",
    "\n",
    "# remove duplicates\n",
    "#df = df.drop_duplicates()\n",
    "\n",
    "# remove punctuation\n",
    "#df[\"sentence\"] = df[\"sentence\"].str.replace('[^\\w\\s]','')\n",
    "\n",
    "# remove numbers --> increase the score\n",
    "#df[\"sentence\"] = df[\"sentence\"].str.replace('\\d+', '')\n",
    "\n",
    "# remove stopwords\n",
    "# define stopwords --> deacrease the score\n",
    "stop = stopwords.get_stopwords(\"french\")\n",
    "#df[\"sentence\"] = df[\"sentence\"].apply(lambda x: ' '.join([word for word in x.split() if word not in (stop)]))\n",
    "\n",
    "# remove short words\n",
    "#df[\"sentence\"] = df[\"sentence\"].apply(lambda x: ' '.join([w for w in x.split() if len(w)>3]))\n",
    "\n",
    "df.head(10)\n",
    "\n",
    "\n",
    "\n",
    "\n",
    "\n"
   ]
  },
  {
   "cell_type": "code",
   "execution_count": 84,
   "outputs": [],
   "source": [
    "\n",
    "\n",
    "\n",
    "\n",
    "\n",
    "\n"
   ],
   "metadata": {
    "collapsed": false,
    "pycharm": {
     "name": "#%%\n"
    }
   }
  },
  {
   "cell_type": "code",
   "execution_count": 91,
   "outputs": [],
   "source": [
    "labelencoder = LabelEncoder()\n",
    "df['le_difficulty'] = labelencoder.fit_transform(df['difficulty'])\n",
    "\n",
    "X = df[[\"id\", \"sentence\"]]\n",
    "y = df[\"le_difficulty\"]\n",
    "\n",
    "X_train, X_test, y_train, y_test = train_test_split(X, y, test_size=0.2, random_state=0)\n",
    "tfidf = TfidfVectorizer()\n",
    "X_train_tfidf = tfidf.fit_transform(X_train[\"sentence\"])\n",
    "X_test_tfidf = tfidf.transform((X_test[\"sentence\"]))\n"
   ],
   "metadata": {
    "collapsed": false,
    "pycharm": {
     "name": "#%%\n"
    }
   }
  },
  {
   "cell_type": "markdown",
   "source": [
    "LINEAR REGRESSION"
   ],
   "metadata": {
    "collapsed": false
   }
  },
  {
   "cell_type": "code",
   "execution_count": 74,
   "outputs": [
    {
     "ename": "ValueError",
     "evalue": "X has 13577 features per sample; expecting 12836",
     "output_type": "error",
     "traceback": [
      "\u001B[1;31m---------------------------------------------------------------------------\u001B[0m",
      "\u001B[1;31mValueError\u001B[0m                                Traceback (most recent call last)",
      "Cell \u001B[1;32mIn[74], line 5\u001B[0m\n\u001B[0;32m      2\u001B[0m LinR \u001B[38;5;241m=\u001B[39m LinearRegression()\u001B[38;5;241m.\u001B[39mfit(X_train_tfidf, y_train)\n\u001B[0;32m      3\u001B[0m y_pred_LinR \u001B[38;5;241m=\u001B[39m LinR\u001B[38;5;241m.\u001B[39mpredict(X_test_tfidf)\n\u001B[1;32m----> 5\u001B[0m \u001B[38;5;28mprint\u001B[39m(\u001B[38;5;124m\"\u001B[39m\u001B[38;5;124mR squared score: \u001B[39m\u001B[38;5;124m\"\u001B[39m, \u001B[38;5;28mround\u001B[39m(\u001B[43mLRcv\u001B[49m\u001B[38;5;241;43m.\u001B[39;49m\u001B[43mscore\u001B[49m\u001B[43m(\u001B[49m\u001B[43mX_test_tfidf\u001B[49m\u001B[43m,\u001B[49m\u001B[43m \u001B[49m\u001B[43my_test\u001B[49m\u001B[43m)\u001B[49m, \u001B[38;5;241m4\u001B[39m))\n",
      "File \u001B[1;32mc:\\wamp64\\www\\demo_rdf\\venv\\lib\\site-packages\\sklearn\\base.py:500\u001B[0m, in \u001B[0;36mClassifierMixin.score\u001B[1;34m(self, X, y, sample_weight)\u001B[0m\n\u001B[0;32m    476\u001B[0m \u001B[38;5;124;03m\"\"\"\u001B[39;00m\n\u001B[0;32m    477\u001B[0m \u001B[38;5;124;03mReturn the mean accuracy on the given test data and labels.\u001B[39;00m\n\u001B[0;32m    478\u001B[0m \n\u001B[1;32m   (...)\u001B[0m\n\u001B[0;32m    497\u001B[0m \u001B[38;5;124;03m    Mean accuracy of ``self.predict(X)`` wrt. `y`.\u001B[39;00m\n\u001B[0;32m    498\u001B[0m \u001B[38;5;124;03m\"\"\"\u001B[39;00m\n\u001B[0;32m    499\u001B[0m \u001B[38;5;28;01mfrom\u001B[39;00m \u001B[38;5;21;01m.\u001B[39;00m\u001B[38;5;21;01mmetrics\u001B[39;00m \u001B[38;5;28;01mimport\u001B[39;00m accuracy_score\n\u001B[1;32m--> 500\u001B[0m \u001B[38;5;28;01mreturn\u001B[39;00m accuracy_score(y, \u001B[38;5;28;43mself\u001B[39;49m\u001B[38;5;241;43m.\u001B[39;49m\u001B[43mpredict\u001B[49m\u001B[43m(\u001B[49m\u001B[43mX\u001B[49m\u001B[43m)\u001B[49m, sample_weight\u001B[38;5;241m=\u001B[39msample_weight)\n",
      "File \u001B[1;32mc:\\wamp64\\www\\demo_rdf\\venv\\lib\\site-packages\\sklearn\\linear_model\\_base.py:309\u001B[0m, in \u001B[0;36mLinearClassifierMixin.predict\u001B[1;34m(self, X)\u001B[0m\n\u001B[0;32m    295\u001B[0m \u001B[38;5;28;01mdef\u001B[39;00m \u001B[38;5;21mpredict\u001B[39m(\u001B[38;5;28mself\u001B[39m, X):\n\u001B[0;32m    296\u001B[0m     \u001B[38;5;124;03m\"\"\"\u001B[39;00m\n\u001B[0;32m    297\u001B[0m \u001B[38;5;124;03m    Predict class labels for samples in X.\u001B[39;00m\n\u001B[0;32m    298\u001B[0m \n\u001B[1;32m   (...)\u001B[0m\n\u001B[0;32m    307\u001B[0m \u001B[38;5;124;03m        Predicted class label per sample.\u001B[39;00m\n\u001B[0;32m    308\u001B[0m \u001B[38;5;124;03m    \"\"\"\u001B[39;00m\n\u001B[1;32m--> 309\u001B[0m     scores \u001B[38;5;241m=\u001B[39m \u001B[38;5;28;43mself\u001B[39;49m\u001B[38;5;241;43m.\u001B[39;49m\u001B[43mdecision_function\u001B[49m\u001B[43m(\u001B[49m\u001B[43mX\u001B[49m\u001B[43m)\u001B[49m\n\u001B[0;32m    310\u001B[0m     \u001B[38;5;28;01mif\u001B[39;00m \u001B[38;5;28mlen\u001B[39m(scores\u001B[38;5;241m.\u001B[39mshape) \u001B[38;5;241m==\u001B[39m \u001B[38;5;241m1\u001B[39m:\n\u001B[0;32m    311\u001B[0m         indices \u001B[38;5;241m=\u001B[39m (scores \u001B[38;5;241m>\u001B[39m \u001B[38;5;241m0\u001B[39m)\u001B[38;5;241m.\u001B[39mastype(\u001B[38;5;28mint\u001B[39m)\n",
      "File \u001B[1;32mc:\\wamp64\\www\\demo_rdf\\venv\\lib\\site-packages\\sklearn\\linear_model\\_base.py:288\u001B[0m, in \u001B[0;36mLinearClassifierMixin.decision_function\u001B[1;34m(self, X)\u001B[0m\n\u001B[0;32m    286\u001B[0m n_features \u001B[38;5;241m=\u001B[39m \u001B[38;5;28mself\u001B[39m\u001B[38;5;241m.\u001B[39mcoef_\u001B[38;5;241m.\u001B[39mshape[\u001B[38;5;241m1\u001B[39m]\n\u001B[0;32m    287\u001B[0m \u001B[38;5;28;01mif\u001B[39;00m X\u001B[38;5;241m.\u001B[39mshape[\u001B[38;5;241m1\u001B[39m] \u001B[38;5;241m!=\u001B[39m n_features:\n\u001B[1;32m--> 288\u001B[0m     \u001B[38;5;28;01mraise\u001B[39;00m \u001B[38;5;167;01mValueError\u001B[39;00m(\u001B[38;5;124m\"\u001B[39m\u001B[38;5;124mX has \u001B[39m\u001B[38;5;132;01m%d\u001B[39;00m\u001B[38;5;124m features per sample; expecting \u001B[39m\u001B[38;5;132;01m%d\u001B[39;00m\u001B[38;5;124m\"\u001B[39m\n\u001B[0;32m    289\u001B[0m                      \u001B[38;5;241m%\u001B[39m (X\u001B[38;5;241m.\u001B[39mshape[\u001B[38;5;241m1\u001B[39m], n_features))\n\u001B[0;32m    291\u001B[0m scores \u001B[38;5;241m=\u001B[39m safe_sparse_dot(X, \u001B[38;5;28mself\u001B[39m\u001B[38;5;241m.\u001B[39mcoef_\u001B[38;5;241m.\u001B[39mT,\n\u001B[0;32m    292\u001B[0m                          dense_output\u001B[38;5;241m=\u001B[39m\u001B[38;5;28;01mTrue\u001B[39;00m) \u001B[38;5;241m+\u001B[39m \u001B[38;5;28mself\u001B[39m\u001B[38;5;241m.\u001B[39mintercept_\n\u001B[0;32m    293\u001B[0m \u001B[38;5;28;01mreturn\u001B[39;00m scores\u001B[38;5;241m.\u001B[39mravel() \u001B[38;5;28;01mif\u001B[39;00m scores\u001B[38;5;241m.\u001B[39mshape[\u001B[38;5;241m1\u001B[39m] \u001B[38;5;241m==\u001B[39m \u001B[38;5;241m1\u001B[39m \u001B[38;5;28;01melse\u001B[39;00m scores\n",
      "\u001B[1;31mValueError\u001B[0m: X has 13577 features per sample; expecting 12836"
     ]
    }
   ],
   "source": [
    "from sklearn.linear_model import LinearRegression\n",
    "LinR = LinearRegression().fit(X_train_tfidf, y_train)\n",
    "y_pred_LinR = LinR.predict(X_test_tfidf)\n",
    "\n",
    "print(\"R squared score: \", round(LRcv.score(X_test_tfidf, y_test), 4))"
   ],
   "metadata": {
    "collapsed": false,
    "pycharm": {
     "name": "#%%\n"
    }
   }
  },
  {
   "cell_type": "markdown",
   "source": [
    "LOGISTIC REGRESSION CV"
   ],
   "metadata": {
    "collapsed": false
   }
  },
  {
   "cell_type": "code",
   "execution_count": 92,
   "outputs": [
    {
     "name": "stdout",
     "output_type": "stream",
     "text": [
      "CONFUSION MATRIX:\n",
      "[[91 34 20  9  4  3]\n",
      " [50 62 34  3  5 10]\n",
      " [12 35 72 14  7 20]\n",
      " [ 6  6 18 67 24 23]\n",
      " [ 3  5 13 40 65 47]\n",
      " [ 7  6  9 16 23 97]]\n",
      "ACCURACY SCORE:\n",
      "0.4729\n",
      "CLASSIFICATION REPORT:\n",
      "\tPrecision: 0.4151\n",
      "\tRecall: 0.4080\n",
      "\tF1_Score: 0.3928\n"
     ]
    }
   ],
   "source": [
    "df2 = pd.read_csv(\"../data/unlabelled_test_data.csv\")\n",
    "LRcv = LogisticRegressionCV(cv=5,solver='lbfgs', max_iter=1000, random_state=50).fit(X_train_tfidf, y_train)\n",
    "\n",
    "X_df2_tfidf = tfidf.transform(df2[\"sentence\"])\n",
    "\n",
    "y_pred_LRcv2 = LRcv.predict(X_df2_tfidf)\n",
    "y_pred_LRcv = LRcv.predict(X_test_tfidf)\n",
    "\n",
    "df2[\"difficulty\"] = y_pred_LRcv2\n",
    "\n",
    "\n",
    "df2 = df2.drop(columns=[\"sentence\"])\n",
    "\n",
    "df2[\"difficulty\"] = labelencoder.inverse_transform(y_pred_LRcv2)\n",
    "\n",
    "df2.to_csv(\"../data/submission1.csv\", index=False)\n",
    "\n",
    "evaluate(y_test, y_pred_LRcv)"
   ],
   "metadata": {
    "collapsed": false,
    "pycharm": {
     "name": "#%%\n"
    }
   }
  },
  {
   "cell_type": "markdown",
   "source": [
    "LOGISTIC REGRESSION"
   ],
   "metadata": {
    "collapsed": false
   }
  },
  {
   "cell_type": "code",
   "execution_count": 40,
   "outputs": [
    {
     "ename": "ValueError",
     "evalue": "Found input variables with inconsistent numbers of samples: [960, 3840]",
     "output_type": "error",
     "traceback": [
      "\u001B[1;31m---------------------------------------------------------------------------\u001B[0m",
      "\u001B[1;31mValueError\u001B[0m                                Traceback (most recent call last)",
      "Cell \u001B[1;32mIn[40], line 5\u001B[0m\n\u001B[0;32m      1\u001B[0m LR \u001B[38;5;241m=\u001B[39m LogisticRegression(solver\u001B[38;5;241m=\u001B[39m\u001B[38;5;124m'\u001B[39m\u001B[38;5;124mlbfgs\u001B[39m\u001B[38;5;124m'\u001B[39m, max_iter\u001B[38;5;241m=\u001B[39m\u001B[38;5;241m1000\u001B[39m, random_state\u001B[38;5;241m=\u001B[39m\u001B[38;5;241m50\u001B[39m)\u001B[38;5;241m.\u001B[39mfit(X_train_tfidf, y_train)\n\u001B[0;32m      2\u001B[0m y_pred_LR \u001B[38;5;241m=\u001B[39m LR\u001B[38;5;241m.\u001B[39mpredict(X_train_tfidf)\n\u001B[1;32m----> 5\u001B[0m \u001B[43mevaluate\u001B[49m\u001B[43m(\u001B[49m\u001B[43my_test\u001B[49m\u001B[43m,\u001B[49m\u001B[43m \u001B[49m\u001B[43my_pred_LR\u001B[49m\u001B[43m)\u001B[49m\n",
      "Cell \u001B[1;32mIn[15], line 8\u001B[0m, in \u001B[0;36mevaluate\u001B[1;34m(true, pred)\u001B[0m\n\u001B[0;32m      6\u001B[0m recall \u001B[38;5;241m=\u001B[39m recall_score(y_test, y_pred, average\u001B[38;5;241m=\u001B[39m\u001B[38;5;124m\"\u001B[39m\u001B[38;5;124mmacro\u001B[39m\u001B[38;5;124m\"\u001B[39m)\n\u001B[0;32m      7\u001B[0m f1 \u001B[38;5;241m=\u001B[39m f1_score(y_test, y_pred, average\u001B[38;5;241m=\u001B[39m\u001B[38;5;124m\"\u001B[39m\u001B[38;5;124mmacro\u001B[39m\u001B[38;5;124m\"\u001B[39m)\n\u001B[1;32m----> 8\u001B[0m \u001B[38;5;28mprint\u001B[39m(\u001B[38;5;124mf\u001B[39m\u001B[38;5;124m\"\u001B[39m\u001B[38;5;124mCONFUSION MATRIX:\u001B[39m\u001B[38;5;130;01m\\n\u001B[39;00m\u001B[38;5;132;01m{\u001B[39;00m\u001B[43mconfusion_matrix\u001B[49m\u001B[43m(\u001B[49m\u001B[43mtrue\u001B[49m\u001B[43m,\u001B[49m\u001B[43m \u001B[49m\u001B[43mpred\u001B[49m\u001B[43m)\u001B[49m\u001B[38;5;132;01m}\u001B[39;00m\u001B[38;5;124m\"\u001B[39m)\n\u001B[0;32m      9\u001B[0m \u001B[38;5;28mprint\u001B[39m(\u001B[38;5;124mf\u001B[39m\u001B[38;5;124m\"\u001B[39m\u001B[38;5;124mACCURACY SCORE:\u001B[39m\u001B[38;5;130;01m\\n\u001B[39;00m\u001B[38;5;132;01m{\u001B[39;00maccuracy_score(true, pred)\u001B[38;5;132;01m:\u001B[39;00m\u001B[38;5;124m.4f\u001B[39m\u001B[38;5;132;01m}\u001B[39;00m\u001B[38;5;124m\"\u001B[39m)\n\u001B[0;32m     10\u001B[0m \u001B[38;5;28mprint\u001B[39m(\u001B[38;5;124mf\u001B[39m\u001B[38;5;124m\"\u001B[39m\u001B[38;5;124mCLASSIFICATION REPORT:\u001B[39m\u001B[38;5;130;01m\\n\u001B[39;00m\u001B[38;5;130;01m\\t\u001B[39;00m\u001B[38;5;124mPrecision: \u001B[39m\u001B[38;5;132;01m{\u001B[39;00mprecision\u001B[38;5;132;01m:\u001B[39;00m\u001B[38;5;124m.4f\u001B[39m\u001B[38;5;132;01m}\u001B[39;00m\u001B[38;5;130;01m\\n\u001B[39;00m\u001B[38;5;130;01m\\t\u001B[39;00m\u001B[38;5;124mRecall: \u001B[39m\u001B[38;5;132;01m{\u001B[39;00mrecall\u001B[38;5;132;01m:\u001B[39;00m\u001B[38;5;124m.4f\u001B[39m\u001B[38;5;132;01m}\u001B[39;00m\u001B[38;5;130;01m\\n\u001B[39;00m\u001B[38;5;130;01m\\t\u001B[39;00m\u001B[38;5;124mF1_Score: \u001B[39m\u001B[38;5;132;01m{\u001B[39;00mf1\u001B[38;5;132;01m:\u001B[39;00m\u001B[38;5;124m.4f\u001B[39m\u001B[38;5;132;01m}\u001B[39;00m\u001B[38;5;124m\"\u001B[39m)\n",
      "File \u001B[1;32mc:\\wamp64\\www\\demo_rdf\\venv\\lib\\site-packages\\sklearn\\utils\\validation.py:63\u001B[0m, in \u001B[0;36m_deprecate_positional_args.<locals>._inner_deprecate_positional_args.<locals>.inner_f\u001B[1;34m(*args, **kwargs)\u001B[0m\n\u001B[0;32m     61\u001B[0m extra_args \u001B[38;5;241m=\u001B[39m \u001B[38;5;28mlen\u001B[39m(args) \u001B[38;5;241m-\u001B[39m \u001B[38;5;28mlen\u001B[39m(all_args)\n\u001B[0;32m     62\u001B[0m \u001B[38;5;28;01mif\u001B[39;00m extra_args \u001B[38;5;241m<\u001B[39m\u001B[38;5;241m=\u001B[39m \u001B[38;5;241m0\u001B[39m:\n\u001B[1;32m---> 63\u001B[0m     \u001B[38;5;28;01mreturn\u001B[39;00m f(\u001B[38;5;241m*\u001B[39margs, \u001B[38;5;241m*\u001B[39m\u001B[38;5;241m*\u001B[39mkwargs)\n\u001B[0;32m     65\u001B[0m \u001B[38;5;66;03m# extra_args > 0\u001B[39;00m\n\u001B[0;32m     66\u001B[0m args_msg \u001B[38;5;241m=\u001B[39m [\u001B[38;5;124m'\u001B[39m\u001B[38;5;132;01m{}\u001B[39;00m\u001B[38;5;124m=\u001B[39m\u001B[38;5;132;01m{}\u001B[39;00m\u001B[38;5;124m'\u001B[39m\u001B[38;5;241m.\u001B[39mformat(name, arg)\n\u001B[0;32m     67\u001B[0m             \u001B[38;5;28;01mfor\u001B[39;00m name, arg \u001B[38;5;129;01min\u001B[39;00m \u001B[38;5;28mzip\u001B[39m(kwonly_args[:extra_args],\n\u001B[0;32m     68\u001B[0m                                  args[\u001B[38;5;241m-\u001B[39mextra_args:])]\n",
      "File \u001B[1;32mc:\\wamp64\\www\\demo_rdf\\venv\\lib\\site-packages\\sklearn\\metrics\\_classification.py:299\u001B[0m, in \u001B[0;36mconfusion_matrix\u001B[1;34m(y_true, y_pred, labels, sample_weight, normalize)\u001B[0m\n\u001B[0;32m    213\u001B[0m \u001B[38;5;129m@_deprecate_positional_args\u001B[39m\n\u001B[0;32m    214\u001B[0m \u001B[38;5;28;01mdef\u001B[39;00m \u001B[38;5;21mconfusion_matrix\u001B[39m(y_true, y_pred, \u001B[38;5;241m*\u001B[39m, labels\u001B[38;5;241m=\u001B[39m\u001B[38;5;28;01mNone\u001B[39;00m, sample_weight\u001B[38;5;241m=\u001B[39m\u001B[38;5;28;01mNone\u001B[39;00m,\n\u001B[0;32m    215\u001B[0m                      normalize\u001B[38;5;241m=\u001B[39m\u001B[38;5;28;01mNone\u001B[39;00m):\n\u001B[0;32m    216\u001B[0m     \u001B[38;5;124;03m\"\"\"Compute confusion matrix to evaluate the accuracy of a classification.\u001B[39;00m\n\u001B[0;32m    217\u001B[0m \n\u001B[0;32m    218\u001B[0m \u001B[38;5;124;03m    By definition a confusion matrix :math:`C` is such that :math:`C_{i, j}`\u001B[39;00m\n\u001B[1;32m   (...)\u001B[0m\n\u001B[0;32m    297\u001B[0m \n\u001B[0;32m    298\u001B[0m \u001B[38;5;124;03m    \"\"\"\u001B[39;00m\n\u001B[1;32m--> 299\u001B[0m     y_type, y_true, y_pred \u001B[38;5;241m=\u001B[39m \u001B[43m_check_targets\u001B[49m\u001B[43m(\u001B[49m\u001B[43my_true\u001B[49m\u001B[43m,\u001B[49m\u001B[43m \u001B[49m\u001B[43my_pred\u001B[49m\u001B[43m)\u001B[49m\n\u001B[0;32m    300\u001B[0m     \u001B[38;5;28;01mif\u001B[39;00m y_type \u001B[38;5;129;01mnot\u001B[39;00m \u001B[38;5;129;01min\u001B[39;00m (\u001B[38;5;124m\"\u001B[39m\u001B[38;5;124mbinary\u001B[39m\u001B[38;5;124m\"\u001B[39m, \u001B[38;5;124m\"\u001B[39m\u001B[38;5;124mmulticlass\u001B[39m\u001B[38;5;124m\"\u001B[39m):\n\u001B[0;32m    301\u001B[0m         \u001B[38;5;28;01mraise\u001B[39;00m \u001B[38;5;167;01mValueError\u001B[39;00m(\u001B[38;5;124m\"\u001B[39m\u001B[38;5;132;01m%s\u001B[39;00m\u001B[38;5;124m is not supported\u001B[39m\u001B[38;5;124m\"\u001B[39m \u001B[38;5;241m%\u001B[39m y_type)\n",
      "File \u001B[1;32mc:\\wamp64\\www\\demo_rdf\\venv\\lib\\site-packages\\sklearn\\metrics\\_classification.py:83\u001B[0m, in \u001B[0;36m_check_targets\u001B[1;34m(y_true, y_pred)\u001B[0m\n\u001B[0;32m     56\u001B[0m \u001B[38;5;28;01mdef\u001B[39;00m \u001B[38;5;21m_check_targets\u001B[39m(y_true, y_pred):\n\u001B[0;32m     57\u001B[0m     \u001B[38;5;124;03m\"\"\"Check that y_true and y_pred belong to the same classification task.\u001B[39;00m\n\u001B[0;32m     58\u001B[0m \n\u001B[0;32m     59\u001B[0m \u001B[38;5;124;03m    This converts multiclass or binary types to a common shape, and raises a\u001B[39;00m\n\u001B[1;32m   (...)\u001B[0m\n\u001B[0;32m     81\u001B[0m \u001B[38;5;124;03m    y_pred : array or indicator matrix\u001B[39;00m\n\u001B[0;32m     82\u001B[0m \u001B[38;5;124;03m    \"\"\"\u001B[39;00m\n\u001B[1;32m---> 83\u001B[0m     \u001B[43mcheck_consistent_length\u001B[49m\u001B[43m(\u001B[49m\u001B[43my_true\u001B[49m\u001B[43m,\u001B[49m\u001B[43m \u001B[49m\u001B[43my_pred\u001B[49m\u001B[43m)\u001B[49m\n\u001B[0;32m     84\u001B[0m     type_true \u001B[38;5;241m=\u001B[39m type_of_target(y_true)\n\u001B[0;32m     85\u001B[0m     type_pred \u001B[38;5;241m=\u001B[39m type_of_target(y_pred)\n",
      "File \u001B[1;32mc:\\wamp64\\www\\demo_rdf\\venv\\lib\\site-packages\\sklearn\\utils\\validation.py:319\u001B[0m, in \u001B[0;36mcheck_consistent_length\u001B[1;34m(*arrays)\u001B[0m\n\u001B[0;32m    317\u001B[0m uniques \u001B[38;5;241m=\u001B[39m np\u001B[38;5;241m.\u001B[39munique(lengths)\n\u001B[0;32m    318\u001B[0m \u001B[38;5;28;01mif\u001B[39;00m \u001B[38;5;28mlen\u001B[39m(uniques) \u001B[38;5;241m>\u001B[39m \u001B[38;5;241m1\u001B[39m:\n\u001B[1;32m--> 319\u001B[0m     \u001B[38;5;28;01mraise\u001B[39;00m \u001B[38;5;167;01mValueError\u001B[39;00m(\u001B[38;5;124m\"\u001B[39m\u001B[38;5;124mFound input variables with inconsistent numbers of\u001B[39m\u001B[38;5;124m\"\u001B[39m\n\u001B[0;32m    320\u001B[0m                      \u001B[38;5;124m\"\u001B[39m\u001B[38;5;124m samples: \u001B[39m\u001B[38;5;132;01m%r\u001B[39;00m\u001B[38;5;124m\"\u001B[39m \u001B[38;5;241m%\u001B[39m [\u001B[38;5;28mint\u001B[39m(l) \u001B[38;5;28;01mfor\u001B[39;00m l \u001B[38;5;129;01min\u001B[39;00m lengths])\n",
      "\u001B[1;31mValueError\u001B[0m: Found input variables with inconsistent numbers of samples: [960, 3840]"
     ]
    }
   ],
   "source": [
    "LR = LogisticRegression(solver='lbfgs', max_iter=1000, random_state=50).fit(X_train_tfidf, y_train)\n",
    "y_pred_LR = LR.predict(X_train_tfidf)\n",
    "\n",
    "\n",
    "evaluate(y_test, y_pred_LR)"
   ],
   "metadata": {
    "collapsed": false,
    "pycharm": {
     "name": "#%%\n"
    }
   }
  },
  {
   "cell_type": "markdown",
   "source": [
    "KNN"
   ],
   "metadata": {
    "collapsed": false
   }
  },
  {
   "cell_type": "code",
   "execution_count": null,
   "outputs": [],
   "source": [],
   "metadata": {
    "collapsed": false,
    "pycharm": {
     "name": "#%%\n"
    }
   }
  },
  {
   "cell_type": "markdown",
   "source": [
    "FOREST"
   ],
   "metadata": {
    "collapsed": false
   }
  },
  {
   "cell_type": "code",
   "execution_count": 42,
   "outputs": [
    {
     "ename": "ValueError",
     "evalue": "could not convert string to float: 'Nous dûmes nous excuser des propos que nous eûmes prononcés'",
     "output_type": "error",
     "traceback": [
      "\u001B[1;31m---------------------------------------------------------------------------\u001B[0m",
      "\u001B[1;31mValueError\u001B[0m                                Traceback (most recent call last)",
      "Cell \u001B[1;32mIn[42], line 8\u001B[0m\n\u001B[0;32m      5\u001B[0m rfc\u001B[38;5;241m.\u001B[39mfit(X_train_tfidf, y_train)\n\u001B[0;32m      7\u001B[0m \u001B[38;5;66;03m# predict\u001B[39;00m\n\u001B[1;32m----> 8\u001B[0m y_pred_RF \u001B[38;5;241m=\u001B[39m \u001B[43mrfc\u001B[49m\u001B[38;5;241;43m.\u001B[39;49m\u001B[43mpredict\u001B[49m\u001B[43m(\u001B[49m\u001B[43mdf2\u001B[49m\u001B[43m[\u001B[49m\u001B[38;5;124;43m\"\u001B[39;49m\u001B[38;5;124;43msentence\u001B[39;49m\u001B[38;5;124;43m\"\u001B[39;49m\u001B[43m]\u001B[49m\u001B[43m)\u001B[49m\n\u001B[0;32m     10\u001B[0m \u001B[38;5;66;03m# evaluate\u001B[39;00m\n\u001B[0;32m     11\u001B[0m evaluate(y_test, y_pred_RF)\n",
      "File \u001B[1;32mc:\\wamp64\\www\\demo_rdf\\venv\\lib\\site-packages\\sklearn\\ensemble\\_forest.py:630\u001B[0m, in \u001B[0;36mForestClassifier.predict\u001B[1;34m(self, X)\u001B[0m\n\u001B[0;32m    609\u001B[0m \u001B[38;5;28;01mdef\u001B[39;00m \u001B[38;5;21mpredict\u001B[39m(\u001B[38;5;28mself\u001B[39m, X):\n\u001B[0;32m    610\u001B[0m     \u001B[38;5;124;03m\"\"\"\u001B[39;00m\n\u001B[0;32m    611\u001B[0m \u001B[38;5;124;03m    Predict class for X.\u001B[39;00m\n\u001B[0;32m    612\u001B[0m \n\u001B[1;32m   (...)\u001B[0m\n\u001B[0;32m    628\u001B[0m \u001B[38;5;124;03m        The predicted classes.\u001B[39;00m\n\u001B[0;32m    629\u001B[0m \u001B[38;5;124;03m    \"\"\"\u001B[39;00m\n\u001B[1;32m--> 630\u001B[0m     proba \u001B[38;5;241m=\u001B[39m \u001B[38;5;28;43mself\u001B[39;49m\u001B[38;5;241;43m.\u001B[39;49m\u001B[43mpredict_proba\u001B[49m\u001B[43m(\u001B[49m\u001B[43mX\u001B[49m\u001B[43m)\u001B[49m\n\u001B[0;32m    632\u001B[0m     \u001B[38;5;28;01mif\u001B[39;00m \u001B[38;5;28mself\u001B[39m\u001B[38;5;241m.\u001B[39mn_outputs_ \u001B[38;5;241m==\u001B[39m \u001B[38;5;241m1\u001B[39m:\n\u001B[0;32m    633\u001B[0m         \u001B[38;5;28;01mreturn\u001B[39;00m \u001B[38;5;28mself\u001B[39m\u001B[38;5;241m.\u001B[39mclasses_\u001B[38;5;241m.\u001B[39mtake(np\u001B[38;5;241m.\u001B[39margmax(proba, axis\u001B[38;5;241m=\u001B[39m\u001B[38;5;241m1\u001B[39m), axis\u001B[38;5;241m=\u001B[39m\u001B[38;5;241m0\u001B[39m)\n",
      "File \u001B[1;32mc:\\wamp64\\www\\demo_rdf\\venv\\lib\\site-packages\\sklearn\\ensemble\\_forest.py:674\u001B[0m, in \u001B[0;36mForestClassifier.predict_proba\u001B[1;34m(self, X)\u001B[0m\n\u001B[0;32m    672\u001B[0m check_is_fitted(\u001B[38;5;28mself\u001B[39m)\n\u001B[0;32m    673\u001B[0m \u001B[38;5;66;03m# Check data\u001B[39;00m\n\u001B[1;32m--> 674\u001B[0m X \u001B[38;5;241m=\u001B[39m \u001B[38;5;28;43mself\u001B[39;49m\u001B[38;5;241;43m.\u001B[39;49m\u001B[43m_validate_X_predict\u001B[49m\u001B[43m(\u001B[49m\u001B[43mX\u001B[49m\u001B[43m)\u001B[49m\n\u001B[0;32m    676\u001B[0m \u001B[38;5;66;03m# Assign chunk of trees to jobs\u001B[39;00m\n\u001B[0;32m    677\u001B[0m n_jobs, _, _ \u001B[38;5;241m=\u001B[39m _partition_estimators(\u001B[38;5;28mself\u001B[39m\u001B[38;5;241m.\u001B[39mn_estimators, \u001B[38;5;28mself\u001B[39m\u001B[38;5;241m.\u001B[39mn_jobs)\n",
      "File \u001B[1;32mc:\\wamp64\\www\\demo_rdf\\venv\\lib\\site-packages\\sklearn\\ensemble\\_forest.py:422\u001B[0m, in \u001B[0;36mBaseForest._validate_X_predict\u001B[1;34m(self, X)\u001B[0m\n\u001B[0;32m    418\u001B[0m \u001B[38;5;124;03m\"\"\"\u001B[39;00m\n\u001B[0;32m    419\u001B[0m \u001B[38;5;124;03mValidate X whenever one tries to predict, apply, predict_proba.\"\"\"\u001B[39;00m\n\u001B[0;32m    420\u001B[0m check_is_fitted(\u001B[38;5;28mself\u001B[39m)\n\u001B[1;32m--> 422\u001B[0m \u001B[38;5;28;01mreturn\u001B[39;00m \u001B[38;5;28;43mself\u001B[39;49m\u001B[38;5;241;43m.\u001B[39;49m\u001B[43mestimators_\u001B[49m\u001B[43m[\u001B[49m\u001B[38;5;241;43m0\u001B[39;49m\u001B[43m]\u001B[49m\u001B[38;5;241;43m.\u001B[39;49m\u001B[43m_validate_X_predict\u001B[49m\u001B[43m(\u001B[49m\u001B[43mX\u001B[49m\u001B[43m,\u001B[49m\u001B[43m \u001B[49m\u001B[43mcheck_input\u001B[49m\u001B[38;5;241;43m=\u001B[39;49m\u001B[38;5;28;43;01mTrue\u001B[39;49;00m\u001B[43m)\u001B[49m\n",
      "File \u001B[1;32mc:\\wamp64\\www\\demo_rdf\\venv\\lib\\site-packages\\sklearn\\tree\\_classes.py:407\u001B[0m, in \u001B[0;36mBaseDecisionTree._validate_X_predict\u001B[1;34m(self, X, check_input)\u001B[0m\n\u001B[0;32m    405\u001B[0m \u001B[38;5;124;03m\"\"\"Validate the training data on predict (probabilities).\"\"\"\u001B[39;00m\n\u001B[0;32m    406\u001B[0m \u001B[38;5;28;01mif\u001B[39;00m check_input:\n\u001B[1;32m--> 407\u001B[0m     X \u001B[38;5;241m=\u001B[39m \u001B[38;5;28;43mself\u001B[39;49m\u001B[38;5;241;43m.\u001B[39;49m\u001B[43m_validate_data\u001B[49m\u001B[43m(\u001B[49m\u001B[43mX\u001B[49m\u001B[43m,\u001B[49m\u001B[43m \u001B[49m\u001B[43mdtype\u001B[49m\u001B[38;5;241;43m=\u001B[39;49m\u001B[43mDTYPE\u001B[49m\u001B[43m,\u001B[49m\u001B[43m \u001B[49m\u001B[43maccept_sparse\u001B[49m\u001B[38;5;241;43m=\u001B[39;49m\u001B[38;5;124;43m\"\u001B[39;49m\u001B[38;5;124;43mcsr\u001B[39;49m\u001B[38;5;124;43m\"\u001B[39;49m\u001B[43m,\u001B[49m\n\u001B[0;32m    408\u001B[0m \u001B[43m                            \u001B[49m\u001B[43mreset\u001B[49m\u001B[38;5;241;43m=\u001B[39;49m\u001B[38;5;28;43;01mFalse\u001B[39;49;00m\u001B[43m)\u001B[49m\n\u001B[0;32m    409\u001B[0m     \u001B[38;5;28;01mif\u001B[39;00m issparse(X) \u001B[38;5;129;01mand\u001B[39;00m (X\u001B[38;5;241m.\u001B[39mindices\u001B[38;5;241m.\u001B[39mdtype \u001B[38;5;241m!=\u001B[39m np\u001B[38;5;241m.\u001B[39mintc \u001B[38;5;129;01mor\u001B[39;00m\n\u001B[0;32m    410\u001B[0m                         X\u001B[38;5;241m.\u001B[39mindptr\u001B[38;5;241m.\u001B[39mdtype \u001B[38;5;241m!=\u001B[39m np\u001B[38;5;241m.\u001B[39mintc):\n\u001B[0;32m    411\u001B[0m         \u001B[38;5;28;01mraise\u001B[39;00m \u001B[38;5;167;01mValueError\u001B[39;00m(\u001B[38;5;124m\"\u001B[39m\u001B[38;5;124mNo support for np.int64 index based \u001B[39m\u001B[38;5;124m\"\u001B[39m\n\u001B[0;32m    412\u001B[0m                          \u001B[38;5;124m\"\u001B[39m\u001B[38;5;124msparse matrices\u001B[39m\u001B[38;5;124m\"\u001B[39m)\n",
      "File \u001B[1;32mc:\\wamp64\\www\\demo_rdf\\venv\\lib\\site-packages\\sklearn\\base.py:421\u001B[0m, in \u001B[0;36mBaseEstimator._validate_data\u001B[1;34m(self, X, y, reset, validate_separately, **check_params)\u001B[0m\n\u001B[0;32m    419\u001B[0m     out \u001B[38;5;241m=\u001B[39m X\n\u001B[0;32m    420\u001B[0m \u001B[38;5;28;01melif\u001B[39;00m \u001B[38;5;28misinstance\u001B[39m(y, \u001B[38;5;28mstr\u001B[39m) \u001B[38;5;129;01mand\u001B[39;00m y \u001B[38;5;241m==\u001B[39m \u001B[38;5;124m'\u001B[39m\u001B[38;5;124mno_validation\u001B[39m\u001B[38;5;124m'\u001B[39m:\n\u001B[1;32m--> 421\u001B[0m     X \u001B[38;5;241m=\u001B[39m check_array(X, \u001B[38;5;241m*\u001B[39m\u001B[38;5;241m*\u001B[39mcheck_params)\n\u001B[0;32m    422\u001B[0m     out \u001B[38;5;241m=\u001B[39m X\n\u001B[0;32m    423\u001B[0m \u001B[38;5;28;01melse\u001B[39;00m:\n",
      "File \u001B[1;32mc:\\wamp64\\www\\demo_rdf\\venv\\lib\\site-packages\\sklearn\\utils\\validation.py:63\u001B[0m, in \u001B[0;36m_deprecate_positional_args.<locals>._inner_deprecate_positional_args.<locals>.inner_f\u001B[1;34m(*args, **kwargs)\u001B[0m\n\u001B[0;32m     61\u001B[0m extra_args \u001B[38;5;241m=\u001B[39m \u001B[38;5;28mlen\u001B[39m(args) \u001B[38;5;241m-\u001B[39m \u001B[38;5;28mlen\u001B[39m(all_args)\n\u001B[0;32m     62\u001B[0m \u001B[38;5;28;01mif\u001B[39;00m extra_args \u001B[38;5;241m<\u001B[39m\u001B[38;5;241m=\u001B[39m \u001B[38;5;241m0\u001B[39m:\n\u001B[1;32m---> 63\u001B[0m     \u001B[38;5;28;01mreturn\u001B[39;00m f(\u001B[38;5;241m*\u001B[39margs, \u001B[38;5;241m*\u001B[39m\u001B[38;5;241m*\u001B[39mkwargs)\n\u001B[0;32m     65\u001B[0m \u001B[38;5;66;03m# extra_args > 0\u001B[39;00m\n\u001B[0;32m     66\u001B[0m args_msg \u001B[38;5;241m=\u001B[39m [\u001B[38;5;124m'\u001B[39m\u001B[38;5;132;01m{}\u001B[39;00m\u001B[38;5;124m=\u001B[39m\u001B[38;5;132;01m{}\u001B[39;00m\u001B[38;5;124m'\u001B[39m\u001B[38;5;241m.\u001B[39mformat(name, arg)\n\u001B[0;32m     67\u001B[0m             \u001B[38;5;28;01mfor\u001B[39;00m name, arg \u001B[38;5;129;01min\u001B[39;00m \u001B[38;5;28mzip\u001B[39m(kwonly_args[:extra_args],\n\u001B[0;32m     68\u001B[0m                                  args[\u001B[38;5;241m-\u001B[39mextra_args:])]\n",
      "File \u001B[1;32mc:\\wamp64\\www\\demo_rdf\\venv\\lib\\site-packages\\sklearn\\utils\\validation.py:673\u001B[0m, in \u001B[0;36mcheck_array\u001B[1;34m(array, accept_sparse, accept_large_sparse, dtype, order, copy, force_all_finite, ensure_2d, allow_nd, ensure_min_samples, ensure_min_features, estimator)\u001B[0m\n\u001B[0;32m    671\u001B[0m         array \u001B[38;5;241m=\u001B[39m array\u001B[38;5;241m.\u001B[39mastype(dtype, casting\u001B[38;5;241m=\u001B[39m\u001B[38;5;124m\"\u001B[39m\u001B[38;5;124munsafe\u001B[39m\u001B[38;5;124m\"\u001B[39m, copy\u001B[38;5;241m=\u001B[39m\u001B[38;5;28;01mFalse\u001B[39;00m)\n\u001B[0;32m    672\u001B[0m     \u001B[38;5;28;01melse\u001B[39;00m:\n\u001B[1;32m--> 673\u001B[0m         array \u001B[38;5;241m=\u001B[39m \u001B[43mnp\u001B[49m\u001B[38;5;241;43m.\u001B[39;49m\u001B[43masarray\u001B[49m\u001B[43m(\u001B[49m\u001B[43marray\u001B[49m\u001B[43m,\u001B[49m\u001B[43m \u001B[49m\u001B[43morder\u001B[49m\u001B[38;5;241;43m=\u001B[39;49m\u001B[43morder\u001B[49m\u001B[43m,\u001B[49m\u001B[43m \u001B[49m\u001B[43mdtype\u001B[49m\u001B[38;5;241;43m=\u001B[39;49m\u001B[43mdtype\u001B[49m\u001B[43m)\u001B[49m\n\u001B[0;32m    674\u001B[0m \u001B[38;5;28;01mexcept\u001B[39;00m ComplexWarning \u001B[38;5;28;01mas\u001B[39;00m complex_warning:\n\u001B[0;32m    675\u001B[0m     \u001B[38;5;28;01mraise\u001B[39;00m \u001B[38;5;167;01mValueError\u001B[39;00m(\u001B[38;5;124m\"\u001B[39m\u001B[38;5;124mComplex data not supported\u001B[39m\u001B[38;5;130;01m\\n\u001B[39;00m\u001B[38;5;124m\"\u001B[39m\n\u001B[0;32m    676\u001B[0m                      \u001B[38;5;124m\"\u001B[39m\u001B[38;5;132;01m{}\u001B[39;00m\u001B[38;5;130;01m\\n\u001B[39;00m\u001B[38;5;124m\"\u001B[39m\u001B[38;5;241m.\u001B[39mformat(array)) \u001B[38;5;28;01mfrom\u001B[39;00m \u001B[38;5;21;01mcomplex_warning\u001B[39;00m\n",
      "File \u001B[1;32mc:\\wamp64\\www\\demo_rdf\\venv\\lib\\site-packages\\numpy\\core\\_asarray.py:102\u001B[0m, in \u001B[0;36masarray\u001B[1;34m(a, dtype, order, like)\u001B[0m\n\u001B[0;32m     99\u001B[0m \u001B[38;5;28;01mif\u001B[39;00m like \u001B[38;5;129;01mis\u001B[39;00m \u001B[38;5;129;01mnot\u001B[39;00m \u001B[38;5;28;01mNone\u001B[39;00m:\n\u001B[0;32m    100\u001B[0m     \u001B[38;5;28;01mreturn\u001B[39;00m _asarray_with_like(a, dtype\u001B[38;5;241m=\u001B[39mdtype, order\u001B[38;5;241m=\u001B[39morder, like\u001B[38;5;241m=\u001B[39mlike)\n\u001B[1;32m--> 102\u001B[0m \u001B[38;5;28;01mreturn\u001B[39;00m \u001B[43marray\u001B[49m\u001B[43m(\u001B[49m\u001B[43ma\u001B[49m\u001B[43m,\u001B[49m\u001B[43m \u001B[49m\u001B[43mdtype\u001B[49m\u001B[43m,\u001B[49m\u001B[43m \u001B[49m\u001B[43mcopy\u001B[49m\u001B[38;5;241;43m=\u001B[39;49m\u001B[38;5;28;43;01mFalse\u001B[39;49;00m\u001B[43m,\u001B[49m\u001B[43m \u001B[49m\u001B[43morder\u001B[49m\u001B[38;5;241;43m=\u001B[39;49m\u001B[43morder\u001B[49m\u001B[43m)\u001B[49m\n",
      "File \u001B[1;32mc:\\wamp64\\www\\demo_rdf\\venv\\lib\\site-packages\\pandas\\core\\series.py:768\u001B[0m, in \u001B[0;36mSeries.__array__\u001B[1;34m(self, dtype)\u001B[0m\n\u001B[0;32m    721\u001B[0m \u001B[38;5;28;01mdef\u001B[39;00m \u001B[38;5;21m__array__\u001B[39m(\u001B[38;5;28mself\u001B[39m, dtype\u001B[38;5;241m=\u001B[39m\u001B[38;5;28;01mNone\u001B[39;00m) \u001B[38;5;241m-\u001B[39m\u001B[38;5;241m>\u001B[39m np\u001B[38;5;241m.\u001B[39mndarray:\n\u001B[0;32m    722\u001B[0m     \u001B[38;5;124;03m\"\"\"\u001B[39;00m\n\u001B[0;32m    723\u001B[0m \u001B[38;5;124;03m    Return the values as a NumPy array.\u001B[39;00m\n\u001B[0;32m    724\u001B[0m \n\u001B[1;32m   (...)\u001B[0m\n\u001B[0;32m    766\u001B[0m \u001B[38;5;124;03m          dtype='datetime64[ns]')\u001B[39;00m\n\u001B[0;32m    767\u001B[0m \u001B[38;5;124;03m    \"\"\"\u001B[39;00m\n\u001B[1;32m--> 768\u001B[0m     \u001B[38;5;28;01mreturn\u001B[39;00m \u001B[43mnp\u001B[49m\u001B[38;5;241;43m.\u001B[39;49m\u001B[43masarray\u001B[49m\u001B[43m(\u001B[49m\u001B[38;5;28;43mself\u001B[39;49m\u001B[38;5;241;43m.\u001B[39;49m\u001B[43marray\u001B[49m\u001B[43m,\u001B[49m\u001B[43m \u001B[49m\u001B[43mdtype\u001B[49m\u001B[43m)\u001B[49m\n",
      "File \u001B[1;32mc:\\wamp64\\www\\demo_rdf\\venv\\lib\\site-packages\\numpy\\core\\_asarray.py:102\u001B[0m, in \u001B[0;36masarray\u001B[1;34m(a, dtype, order, like)\u001B[0m\n\u001B[0;32m     99\u001B[0m \u001B[38;5;28;01mif\u001B[39;00m like \u001B[38;5;129;01mis\u001B[39;00m \u001B[38;5;129;01mnot\u001B[39;00m \u001B[38;5;28;01mNone\u001B[39;00m:\n\u001B[0;32m    100\u001B[0m     \u001B[38;5;28;01mreturn\u001B[39;00m _asarray_with_like(a, dtype\u001B[38;5;241m=\u001B[39mdtype, order\u001B[38;5;241m=\u001B[39morder, like\u001B[38;5;241m=\u001B[39mlike)\n\u001B[1;32m--> 102\u001B[0m \u001B[38;5;28;01mreturn\u001B[39;00m \u001B[43marray\u001B[49m\u001B[43m(\u001B[49m\u001B[43ma\u001B[49m\u001B[43m,\u001B[49m\u001B[43m \u001B[49m\u001B[43mdtype\u001B[49m\u001B[43m,\u001B[49m\u001B[43m \u001B[49m\u001B[43mcopy\u001B[49m\u001B[38;5;241;43m=\u001B[39;49m\u001B[38;5;28;43;01mFalse\u001B[39;49;00m\u001B[43m,\u001B[49m\u001B[43m \u001B[49m\u001B[43morder\u001B[49m\u001B[38;5;241;43m=\u001B[39;49m\u001B[43morder\u001B[49m\u001B[43m)\u001B[49m\n",
      "File \u001B[1;32mc:\\wamp64\\www\\demo_rdf\\venv\\lib\\site-packages\\pandas\\core\\arrays\\numpy_.py:203\u001B[0m, in \u001B[0;36mPandasArray.__array__\u001B[1;34m(self, dtype)\u001B[0m\n\u001B[0;32m    202\u001B[0m \u001B[38;5;28;01mdef\u001B[39;00m \u001B[38;5;21m__array__\u001B[39m(\u001B[38;5;28mself\u001B[39m, dtype\u001B[38;5;241m=\u001B[39m\u001B[38;5;28;01mNone\u001B[39;00m) \u001B[38;5;241m-\u001B[39m\u001B[38;5;241m>\u001B[39m np\u001B[38;5;241m.\u001B[39mndarray:\n\u001B[1;32m--> 203\u001B[0m     \u001B[38;5;28;01mreturn\u001B[39;00m \u001B[43mnp\u001B[49m\u001B[38;5;241;43m.\u001B[39;49m\u001B[43masarray\u001B[49m\u001B[43m(\u001B[49m\u001B[38;5;28;43mself\u001B[39;49m\u001B[38;5;241;43m.\u001B[39;49m\u001B[43m_ndarray\u001B[49m\u001B[43m,\u001B[49m\u001B[43m \u001B[49m\u001B[43mdtype\u001B[49m\u001B[38;5;241;43m=\u001B[39;49m\u001B[43mdtype\u001B[49m\u001B[43m)\u001B[49m\n",
      "File \u001B[1;32mc:\\wamp64\\www\\demo_rdf\\venv\\lib\\site-packages\\numpy\\core\\_asarray.py:102\u001B[0m, in \u001B[0;36masarray\u001B[1;34m(a, dtype, order, like)\u001B[0m\n\u001B[0;32m     99\u001B[0m \u001B[38;5;28;01mif\u001B[39;00m like \u001B[38;5;129;01mis\u001B[39;00m \u001B[38;5;129;01mnot\u001B[39;00m \u001B[38;5;28;01mNone\u001B[39;00m:\n\u001B[0;32m    100\u001B[0m     \u001B[38;5;28;01mreturn\u001B[39;00m _asarray_with_like(a, dtype\u001B[38;5;241m=\u001B[39mdtype, order\u001B[38;5;241m=\u001B[39morder, like\u001B[38;5;241m=\u001B[39mlike)\n\u001B[1;32m--> 102\u001B[0m \u001B[38;5;28;01mreturn\u001B[39;00m \u001B[43marray\u001B[49m\u001B[43m(\u001B[49m\u001B[43ma\u001B[49m\u001B[43m,\u001B[49m\u001B[43m \u001B[49m\u001B[43mdtype\u001B[49m\u001B[43m,\u001B[49m\u001B[43m \u001B[49m\u001B[43mcopy\u001B[49m\u001B[38;5;241;43m=\u001B[39;49m\u001B[38;5;28;43;01mFalse\u001B[39;49;00m\u001B[43m,\u001B[49m\u001B[43m \u001B[49m\u001B[43morder\u001B[49m\u001B[38;5;241;43m=\u001B[39;49m\u001B[43morder\u001B[49m\u001B[43m)\u001B[49m\n",
      "\u001B[1;31mValueError\u001B[0m: could not convert string to float: 'Nous dûmes nous excuser des propos que nous eûmes prononcés'"
     ]
    }
   ],
   "source": [
    "# create the model\n",
    "rfc = RandomForestClassifier()\n",
    "\n",
    "# fit the model\n",
    "rfc.fit(X_train_tfidf, y_train)\n",
    "\n",
    "# predict\n",
    "y_pred_RF = rfc.predict(X_test_tfidf)\n",
    "\n",
    "# evaluate\n",
    "evaluate(y_test, y_pred_RF)"
   ],
   "metadata": {
    "collapsed": false,
    "pycharm": {
     "name": "#%%\n"
    }
   }
  },
  {
   "cell_type": "markdown",
   "metadata": {
    "id": "82FvnJycsBFf"
   },
   "source": [
    "#### 4.7. Show a summary of your results\n"
   ]
  }
 ],
 "metadata": {
  "colab": {
   "provenance": []
  },
  "kernelspec": {
   "display_name": "Python 3 (ipykernel)",
   "language": "python",
   "name": "python3"
  },
  "language_info": {
   "codemirror_mode": {
    "name": "ipython",
    "version": 3
   },
   "file_extension": ".py",
   "mimetype": "text/x-python",
   "name": "python",
   "nbconvert_exporter": "python",
   "pygments_lexer": "ipython3",
   "version": "3.8.12"
  },
  "toc": {
   "base_numbering": 1,
   "nav_menu": {},
   "number_sections": true,
   "sideBar": true,
   "skip_h1_title": false,
   "title_cell": "Table of Contents",
   "title_sidebar": "Contents",
   "toc_cell": false,
   "toc_position": {},
   "toc_section_display": true,
   "toc_window_display": false
  }
 },
 "nbformat": 4,
 "nbformat_minor": 0
}